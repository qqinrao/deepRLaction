{
 "cells": [
  {
   "cell_type": "markdown",
   "metadata": {},
   "source": [
    "Q函数接收一个状态并生成状态-动作-价值（Q值），然后策略函数使用该值生成一个动作。也可以直接训练一个策略函数，以处理一个状态并返回动作的概率分布。"
   ]
  },
  {
   "cell_type": "markdown",
   "metadata": {},
   "source": [
    "领域Q-learning或子空间Q-learning:承认在大多数环境中，只有彼此接近的智能体才会对彼此产生较大的影响。我们不必模拟环境中所有智能体的联合动作，而是通过仅模拟相同领域内的智能体的联合动作来近似，在某种意义上，我们将整个联合动作空间分成一组重叠的子空间，而仅仅计算这些小得多多子空间多Q值。可以称这种算法为领域Q-learning或子空间Q-learning。"
   ]
  },
  {
   "cell_type": "markdown",
   "metadata": {},
   "source": [
    "每个智能体都有一个视场或领域，他只能看到该领域内其他智能体的动作，但是仍然可以获得环境的完整状态信息。\n",
    "\n",
    "智能体 j 的领域Q 函数接收当前状态和领域（或视场）内其他智能体的联合动作向量$a_{-j}$。他会产生要传递到策略函数的Q 值，而策略函数会选择要采取的动作。"
   ]
  },
  {
   "cell_type": "markdown",
   "metadata": {},
   "source": [
    "一维伊辛模型：创建网格并产生奖励"
   ]
  },
  {
   "cell_type": "markdown",
   "metadata": {},
   "source": [
    "一下代码包含两个函数，第一个函数通过创建一个由呈标准正态分布的数字组成的网格来创建一个随机初始化的一维网格（向量）。然后将所有的非正数设置为 0，将所有正数设置为 1，结果将在网格中得到数量基本相同的 1 和 0."
   ]
  },
  {
   "cell_type": "markdown",
   "metadata": {},
   "source": [
    "第二个函数是奖励函数，用于接收一个二进制的列表 s 和一个二进制数 a，然后比较 s 中又多少个值与a 匹配，如果所有值都匹配，则奖励为最大值，如果都不匹配，则奖励为负。输入 s 将是邻居的列表。"
   ]
  },
  {
   "cell_type": "code",
   "execution_count": 1,
   "metadata": {},
   "outputs": [],
   "source": [
    "import numpy as np\n",
    "import torch\n",
    "from matplotlib import pyplot as plt\n",
    "\n",
    "#初始化多智能体环境\n",
    "def init_grid(size=(10,)):\n",
    "    #*size 是解包操作，将元组 size 中的元素作为参数传递给 torch.randn 函数。\n",
    "    grid = torch.randn(*size)\n",
    "    grid[grid > 0] = 1\n",
    "    grid[grid <= 0] = 0\n",
    "    grid = grid.byte() #将浮点数转换为字节对象使其二进制化\n",
    "    return grid\n",
    "\n",
    "#计算奖励\n",
    "def get_reward(s,a): #此函数接收s中的邻居，并将他们与智能体a比较，如果匹配，则奖励就会更高。\n",
    "    r = -1\n",
    "    for i in s:\n",
    "        if i == a:\n",
    "            r += 0.9\n",
    "    r *= 2.\n",
    "    return r"
   ]
  },
  {
   "cell_type": "code",
   "execution_count": 2,
   "metadata": {},
   "outputs": [
    {
     "data": {
      "text/plain": [
       "tensor([1, 1, 1, 0, 0, 1, 1, 0, 0, 0, 0, 1, 1, 0, 0, 1, 1, 0, 1, 1],\n",
       "       dtype=torch.uint8)"
      ]
     },
     "execution_count": 2,
     "metadata": {},
     "output_type": "execute_result"
    }
   ],
   "source": [
    "size=(20,)\n",
    "grid=init_grid(size=size)\n",
    "grid"
   ]
  },
  {
   "cell_type": "code",
   "execution_count": 3,
   "metadata": {},
   "outputs": [
    {
     "data": {
      "text/plain": [
       "<matplotlib.image.AxesImage at 0x12dab1760>"
      ]
     },
     "execution_count": 3,
     "metadata": {},
     "output_type": "execute_result"
    },
    {
     "data": {
      "image/png": "[encoded data removed]",
      "text/plain": [
       "<Figure size 640x480 with 1 Axes>"
      ]
     },
     "metadata": {},
     "output_type": "display_data"
    }
   ],
   "source": [
    "#np.expand_dims 是 NumPy 库中的一个函数，用于在数组的指定位置插入新的轴来扩展数组的维度\n",
    "plt.imshow(np.expand_dims(grid,0))"
   ]
  },
  {
   "cell_type": "markdown",
   "metadata": {},
   "source": [
    "一维伊辛模型：生成神经网络参数\n",
    "\n",
    "由于我们将用一个神经网络来模拟Q 函数，因此需要为他生成参数。"
   ]
  },
  {
   "cell_type": "code",
   "execution_count": 4,
   "metadata": {},
   "outputs": [],
   "source": [
    "def gen_params(N,size): #此函数为神经网络生成一个参数向量列表\n",
    "    ret = []  #存储生成的参数向量\n",
    "    for i in range(N):\n",
    "        #torch.randn(size) ：生成标准正态分布的随机数\n",
    "        #/ 10. ：将参数值缩小10倍，使初始值较小\n",
    "        vec = torch.randn(size) / 10.\n",
    "        vec.requires_grad = True\n",
    "        ret.append(vec)\n",
    "    return ret"
   ]
  },
  {
   "cell_type": "markdown",
   "metadata": {},
   "source": [
    "一维伊辛模型：定义Q 函数\n",
    "\n",
    "由于一维伊辛模型非常简单，我们将通过指定所有的矩阵乘法来手动编写神经网络，而非使用 pytorch 内置的层。我们需要创建一个Q 函数，用于接收一个状态向量和一个参数向量，并将参数向量分解成多个矩阵，以形成神经网络的每一层。"
   ]
  },
  {
   "cell_type": "markdown",
   "metadata": {},
   "source": [
    " 这是用简单的两层神经网络实现的Q 函数，他需要一个状态向量 s（邻居状态的二进制向量）和一个参数向量 theta，他还需要关键字参数 layers，这是一个[(s1,s2),(s3,s4)...]形状的列表，表示各层参数矩阵的形状。所有的Q 函数都会返回每个可能动作的Q 值。\n",
    "\n",
    " 智能体 j 的Q 函数接收一个参数向量和一个独热编码的智能体 j 的邻居联合动作向量。\n",
    "\n",
    " 使用单参数向量的优势是：可以很容易的将多个神经网络的所有参数存储为一个向量列表。我们只需让神经网络将向量分解为层矩阵。之所以用 tanh 激活函数，是因为他的输出范围是[-1,1]，而我们的奖励处于区间[-2,2]，所以+2奖励将强烈的将Q 值输出推向+1.然而我们希望能够在后续项目中复用这个Q 函数，所以将激活函数作为一个可选的关键字参数 afn 来提供。"
   ]
  },
  {
   "cell_type": "code",
   "execution_count": 5,
   "metadata": {},
   "outputs": [],
   "source": [
    "#多智能体强化学习中动作价值计算\n",
    "def qfunc(s,theta,layers=[(4,20),(20,2)],afn=torch.tanh):\n",
    "    l1n = layers[0]   #获取第一层维度（输入 4，隐藏 20）\n",
    "    #np.prod 是 NumPy 库提供的用于计算数组元素乘积的函数\n",
    "    l1s = np.prod(l1n) #取layers中的第一个元组，将这些数相乘以获得theta向量的子集，并将其用作神经网络的第一层\n",
    "    theta_1 = theta[0:l1s].reshape(l1n) #将theta 向量子集重塑为一个矩阵，以用作神经网络的第一层\n",
    "    l2n = layers[1]\n",
    "    l2s = np.prod(l2n)\n",
    "    theta_2 = theta[l1s:l2s+l1s].reshape(l2n)\n",
    "    #网络前向传播\n",
    "    bias = torch.ones((1,theta_1.shape[1]))\n",
    "    l1 = s @ theta_1 + bias #这是第一层计算，其中输入 s 是一个维度为（4,1）的联合动作向量\n",
    "    l1 = torch.nn.functional.elu(l1)  # ELU激活函数\n",
    "    l2 = afn(l1 @ theta_2) #我们也可以输入一个激活函数用于最后一层，默认的是 tanh，因为我们的奖励范围是[-1,1]\n",
    "    return l2.flatten()  # 展平输出为动作价值向量"
   ]
  },
  {
   "cell_type": "markdown",
   "metadata": {},
   "source": [
    "一维伊辛模型：产生环境的状态信息\n",
    "\n",
    "以下代码的函数是为Q 函数准备状态信息所需要的两个辅助函数。get-substate 函数接收一个二进制数（0 表示自旋向下 ，1 表示自旋向上），并将其转换为一个独热编码的动作向量，其中 0 变成动作空间[向下，向上]中的[1,0],1 变成[0,1]。网格只包含一系列代表每个智能体自旋方向的二进制数，但我们需要将这些二进制数转换为动作向量，然后通过求其外积来得到Q 函数的联合动作向量。"
   ]
  },
  {
   "cell_type": "code",
   "execution_count": 6,
   "metadata": {},
   "outputs": [],
   "source": [
    "def get_substate(b): #取一个二进制数，并将其转换成一个类似于[0,1]的独热编码的动作向量\n",
    "    s = torch.zeros(2)  #存储转换后的独热编码动作向量。\n",
    "    if b > 0: #如果输入为 0(向下)，那么动作向量为[1,0]，否则为[0,1]\n",
    "        s[1] = 1\n",
    "    else:\n",
    "        s[0] = 1\n",
    "    return s\n",
    "\n",
    "def joint_state(s): #s是一个包含两个元素的向量，其中s[0]=左邻居，s[1]=右邻居\n",
    "    s1_ = get_substate(s[0]) #获取s中每个元素的动作向量\n",
    "    s2_ = get_substate(s[1])\n",
    "    ret = (s1_.reshape(2,1) @ s2_.reshape(1,2)).flatten() #使用外积创建联合动作空间，然后展平成一个向量\n",
    "    return ret"
   ]
  },
  {
   "cell_type": "markdown",
   "metadata": {},
   "source": [
    "一维伊辛模型：初始化网格"
   ]
  },
  {
   "cell_type": "code",
   "execution_count": 7,
   "metadata": {},
   "outputs": [
    {
     "name": "stdout",
     "output_type": "stream",
     "text": [
      "tensor([0, 1, 0, 0, 0, 1, 1, 0, 0, 1, 0, 0, 1, 1, 1, 0, 0, 1, 0, 0],\n",
      "       dtype=torch.uint8)\n"
     ]
    },
    {
     "data": {
      "text/plain": [
       "<matplotlib.image.AxesImage at 0x12da76eb0>"
      ]
     },
     "execution_count": 7,
     "metadata": {},
     "output_type": "execute_result"
    },
    {
     "data": {
      "image/png": "[encoded data removed]",
      "text/plain": [
       "<Figure size 800x500 with 1 Axes>"
      ]
     },
     "metadata": {},
     "output_type": "display_data"
    }
   ],
   "source": [
    "plt.figure(figsize=(8,5))\n",
    "size = (20,) #将网格的总大小设置为一个长度为 20 的向量\n",
    "hid_layer = 20 #设置隐藏层的大小。本例中的Q 函数是一个两层神经网络，所以只有一个隐藏层\n",
    "params = gen_params(size[0],4*hid_layer+hid_layer*2) #生成一个将参数化Q 函数的参数向量列表\n",
    "grid = init_grid(size=size)\n",
    "grid_ = grid.clone() #复制网格（原因将在主训练循环中变得清晰）\n",
    "print(grid)\n",
    "#expand_dims：在数组的指定位置插入新的轴，从而扩展数组的维度。np.expand_dims 只是增加了数组的维度，并没有改变数组的数据内容\n",
    "#matplotlib 库中的 imshow 函数，用于将数组作为图像显示。\n",
    "plt.imshow(np.expand_dims(grid,0))"
   ]
  },
  {
   "cell_type": "markdown",
   "metadata": {},
   "source": [
    "一维伊辛模型：主训练循环"
   ]
  },
  {
   "cell_type": "markdown",
   "metadata": {},
   "source": [
    "在主训练循环中，遍历所有 20 个智能体。找到每个智能体的左邻居和右邻居，获取他们的联合动作向量，并据次来计算自旋向下和自旋向上这两种可能动作的Q 值。我们建立的一维伊辛模型是一个环形网格，所有智能体都有一个左邻居和一个右邻居。\n",
    "\n",
    "每个智能体都有各自用于参数化Q 函数的相关参数向量，所以每个智能体都由一个单独的深度Q 网络控制。同样由于每个智能体都有相同的最优策略，即与其邻居以相同的方式对齐，因此可以使用单个DQN 来控制所有智能体。我们将在后续项目中使用这种方法，但展示单独建模每个智能体的简易性是很有必要的。在其他环境中，智能体可能有不同的最优策略，此时需要为每个智能体使用单独的DQN。\n",
    "\n",
    "我们简化了主训练循环，以避免干扰。首先，我们使用的策略是$\\epsilon$贪婪策略。因为不存在有时采取随机动作的$\\epsilon$贪婪策略，智能体每次会采取Q 值最高的动作。通常情况下，某种类型的探索策略是必要的，但由于这是一个非常简单的问题，因此模型仍然能够正常工作。"
   ]
  },
  {
   "cell_type": "markdown",
   "metadata": {},
   "source": [
    "主训练循环：对于每个智能体 j，对应 Q 函数接收一个参数向量和智能体 j 的联合动作向量（表示为$a_{-j}$），并输出一个包含两个元素的 Q 值向量作为策略函数的输入。策略函数选择一个动作（一个二进制数），然后将其存储在网格环境的镜像（副本）中。所有智能体都选择了动作后，网格环境的镜像将与主网格同步。然后主网格生成每个智能体的奖励并将其传递给损失函数，由损失函数计算损失并将其反向传播给 Q 函数，最终进入参数向量进行更新。"
   ]
  },
  {
   "cell_type": "code",
   "execution_count": 8,
   "metadata": {},
   "outputs": [],
   "source": [
    "epochs = 200\n",
    "lr = 0.001 \n",
    "#每个智能体独立记录损失\n",
    "losses = [[] for i in range(size[0])] #由于我们要处理多个智能体，而每个智能体由一个单独的Q 函数控制，因此必须跟着多个损失\n",
    "for i in range(epochs):\n",
    "    for j in range(size[0]): #遍历每个智能体\n",
    "        l = j - 1 if j - 1 >= 0 else size[0]-1 #获取左邻居，如果处于开头，则循环到末尾\n",
    "        r = j + 1 if j + 1 < size[0] else 0 #获取右邻居，如果处于末尾，则循环到开头\n",
    "        state_ = grid[[l,r]] #state_是两个二进制数，分别表示左邻域和右邻域的自旋\n",
    "        state = joint_state(state_) #state 是由两个二进制数（代表两个智能体的动作）组成的向量，将其转换成一个独热联合动作向量\n",
    "        #detach()：将 state 张量从计算图中分离出来，得到一个新的张量。分离后的张量不会再参与梯度的计算，在后续的反向传播过程中不会对 state 进行梯度更新\n",
    "        qvals = qfunc(state.float().detach(),params[j],layers=[(4,hid_layer),(hid_layer,2)])\n",
    "        qmax = torch.argmax(qvals,dim=0).detach().item() #策略是采取与最高Q 值相关联的动作\n",
    "        action = int(qmax)\n",
    "        grid_[j] = action #将动作存入网格的临时副本grid_中，只有所有智能体都执行了动作，才将他们复制到主网格中\n",
    "        reward = get_reward(state_.detach(),action)\n",
    "        with torch.no_grad(): \n",
    "            target = qvals.clone()  #target值是Q 值向量，将其中采取的动作关联的Q 值替换成观察奖励\n",
    "            target[action] = reward\n",
    "        loss = torch.sum(torch.pow(qvals - target,2))  #MSE 损失\n",
    "        losses[j].append(loss.detach().numpy())\n",
    "        loss.backward()\n",
    "        with torch.no_grad(): #手动梯度下降\n",
    "            params[j] = params[j] - lr * params[j].grad\n",
    "        params[j].requires_grad = True  #重置梯度状态\n",
    "    with torch.no_grad(): #将临时网格的内容复制到主网格向量中\n",
    "        grid.data = grid_.data  #把临时网格 grid_ 中的动作信息复制到主网格 grid 中"
   ]
  },
  {
   "cell_type": "markdown",
   "metadata": {},
   "source": [
    "绘制网格：\n",
    "\n",
    "以下代码运行图（上面的图）是每个智能体在每个轮次的损失的散点图（每个颜色代表一个不同的智能体）。可以看到，所有损失都下降并稳定在大概 30 个轮次处。运行图（下面的图）是伊辛模型网格，可以看到，电子已经聚集成两个完全对齐的域。中间颜色较浅的部分是一组按向上（1）方向对齐的智能体，其余的则按向下（0）方向对齐。则比开始时使用的随机分布要好得多，所以一维MARL 算法在一维伊辛模型中肯定起了作用\n",
    "\n",
    "运行图（上面的图）每个智能体随着训练轮次变化的损失。可以看到他们都在减小且大约稳定在 30 个轮次处。运行图（下面的图）最大化奖励（最小化能量）后的一维伊辛模型。可以看到所有电子聚集在一起形成域，域中他们的自旋方向完全一致。"
   ]
  },
  {
   "cell_type": "code",
   "execution_count": 9,
   "metadata": {},
   "outputs": [
    {
     "name": "stdout",
     "output_type": "stream",
     "text": [
      "tensor([1, 1, 1, 1, 0, 0, 0, 0, 0, 1, 1, 1, 1, 1, 1, 1, 1, 1, 1, 1],\n",
      "       dtype=torch.uint8) tensor(15)\n"
     ]
    },
    {
     "data": {
      "text/plain": [
       "<matplotlib.image.AxesImage at 0x12dc53730>"
      ]
     },
     "execution_count": 9,
     "metadata": {},
     "output_type": "execute_result"
    },
    {
     "data": {
      "image/png": "[encoded data removed]",
      "text/plain": [
       "<Figure size 640x480 with 2 Axes>"
      ]
     },
     "metadata": {},
     "output_type": "display_data"
    }
   ],
   "source": [
    "fig,ax = plt.subplots(2,1)\n",
    "for i in range(size[0]):\n",
    "    ax[0].scatter(np.arange(len(losses[i])),losses[i])\n",
    "print(grid,grid.sum())\n",
    "ax[1].imshow(np.expand_dims(grid,0))"
   ]
  },
  {
   "cell_type": "markdown",
   "metadata": {},
   "source": [
    "二维伊辛模型：我们将二维伊辛模型表示为一个二维正方形网格（矩阵），这样设计模型中就不存在边界，因此看起来在边界上的智能体实际上与网格对侧的智能体相邻。因此二维网格实际上是一个包裹在球体表面的二维网格。\n",
    "\n",
    "平均场Q-learning 在二维伊辛模型工作：二维伊辛模型除了一个二维网格（矩阵），其他方面与一维版本的完全相同。网格实际上包裹在一个球体表面。\n",
    "\n",
    "用于二维伊辛模型的第一个新函数是 softmax 函数。\n",
    "\n",
    "softmax 函数在数学上的定义：$P_{t}(a)=\\frac{exp(\\frac{q_{t}(a)}{\\tau})}{\\sum_{i=1}^{n}exp \\frac{q_{t}(a)}{\\tau}}$"
   ]
  },
  {
   "cell_type": "code",
   "execution_count": 10,
   "metadata": {},
   "outputs": [],
   "source": [
    "from collections import deque #使用双端队列数据结构作为经验回放存储列表，因为他可以设置最大容量\n",
    "from random import shuffle #使用shuffle函数将经验回放缓冲器中的内容随机排序\n",
    "\n",
    "#temp：温度参数，控制softmax分布的平滑程度，较高的温度会使分布更加平滑，动作选择更加随机；较低的温度会使分布更加集中，动作选择更加倾向于Q值较高的动作\n",
    "def softmax_policy(qvals,temp=0.9): #这个策略函数接收一个Q值向量并返回一个动作 0（向下）或 1（向上）\n",
    "    soft = torch.exp(qvals/temp) / torch.sum(torch.exp(qvals/temp)) #softmax 函数 的定义\n",
    "    #1 表示要选择的元素数量，这里选择 1 个动作\n",
    "    action = torch.multinomial(soft,1) #softmax 函数将 Q 值转换为一个动作的概率分布。使用 multinomial 函数随机选择一个概率加权的动作\n",
    "    return action"
   ]
  },
  {
   "cell_type": "markdown",
   "metadata": {},
   "source": [
    "平均场Q-learning：坐标和奖励函数"
   ]
  },
  {
   "cell_type": "markdown",
   "metadata": {},
   "source": [
    "由于在二维网格中使用[x,y]坐标索引智能体不方便，因此通常将二维网格扁平化为一个向量来使用单个索引值检索智能体，但需要能将这个扁平化的索引转换为[x,y]坐标，这就是get_coords 函数所实现的功能。get_reward_2d 是用于二维网格的新奖励函数，可用于会计算动作向量与平均场向量之间的差异。"
   ]
  },
  {
   "cell_type": "code",
   "execution_count": 11,
   "metadata": {},
   "outputs": [],
   "source": [
    "def get_coords(grid,j): #接收扁平网格中的单个索引值，并将其转换会[x,y]坐标\n",
    "    #np.floor：numpy 库中的 floor 函数，用于向下取整，将行号转换为整数\n",
    "    x = int(np.floor(j / grid.shape[0])) #获取x坐标\n",
    "    y = int(j - x * grid.shape[0]) #获取y坐标\n",
    "    return x,y\n",
    "\n",
    "def get_reward_2d(action,action_mean): #二维网格的奖励函数\n",
    "    r = (action*(action_mean-action/2)).sum()/action.sum() #奖励基于动作和平均场动作的差异程度生成\n",
    "    return torch.tanh(5 * r) #使用tanh函数将奖励缩放到[-1,+1]内"
   ]
  },
  {
   "cell_type": "code",
   "execution_count": 12,
   "metadata": {},
   "outputs": [
    {
     "name": "stdout",
     "output_type": "stream",
     "text": [
      "tensor(-0.8483) tensor(0.8483)\n"
     ]
    }
   ],
   "source": [
    "x1 = get_reward_2d(torch.Tensor([1,0]),torch.Tensor([0.25, 0.75]))\n",
    "x2 = get_reward_2d(torch.Tensor([0,1]),torch.Tensor([0.25, 0.75]))\n",
    "print(x1,x2)"
   ]
  },
  {
   "cell_type": "markdown",
   "metadata": {},
   "source": [
    "平均场Q-learning：计算平均场动作向量"
   ]
  },
  {
   "cell_type": "markdown",
   "metadata": {},
   "source": [
    "以下代码将接收一个智能体索引 j（单个整数，基于扁平网格的索引），并返回网格上该智能体最邻近（周围）的 8 个智能体的平均动作。我们通过获取智能体的坐标来找到 8 个最邻近的智能体，然后将每个[x,y]组合相加。"
   ]
  },
  {
   "cell_type": "code",
   "execution_count": 13,
   "metadata": {},
   "outputs": [],
   "source": [
    "def mean_action(grid,j):\n",
    "    x,y = get_coords(grid,j) #将向量化索引 j 转换为网格坐标[x,y],其中[0,0]表示左上角\n",
    "    action_mean = torch.zeros(2) #这就是我们要增加的动作均值向量\n",
    "    for i in [-1,0,1]: #两个for 循环可用于找到距离智能体 j 最近的八个邻居\n",
    "        for k in [-1,0,1]:\n",
    "            if i == k == 0:  #跳过当前位置本身\n",
    "                continue\n",
    "            x_,y_ = x + i, y + k\n",
    "            x_ = x_ if x_ >= 0 else grid.shape[0] - 1\n",
    "            y_ = y_ if y_ >= 0 else grid.shape[1] - 1\n",
    "            x_ = x_ if x_ <  grid.shape[0] else 0\n",
    "            y_ = y_ if y_ < grid.shape[1] else 0\n",
    "            cur_n = grid[x_,y_]\n",
    "            s = get_substate(cur_n) #将每个邻居的二进制自旋转换为一个动作向量\n",
    "            action_mean += s  #将邻居的子状态累加到 action_mean 向量上\n",
    "    action_mean /= action_mean.sum() #将动作向量归一化为一个概率分布\n",
    "    return action_mean"
   ]
  },
  {
   "cell_type": "markdown",
   "metadata": {},
   "source": [
    "这是一个随机初始化的二维伊辛模型。其中，每个方格代表一个电子，浅色方格代表自旋向上的电子，深色方格代表自旋向下的电子"
   ]
  },
  {
   "cell_type": "code",
   "execution_count": null,
   "metadata": {},
   "outputs": [
    {
     "name": "stdout",
     "output_type": "stream",
     "text": [
      "tensor(43)\n"
     ]
    },
    {
     "data": {
      "image/png": "[encoded data removed]",
      "text/plain": [
       "<Figure size 640x480 with 1 Axes>"
      ]
     },
     "metadata": {},
     "output_type": "display_data"
    }
   ],
   "source": [
    "size = (10,10)\n",
    "#np.prod(size)计算size元组中元素的乘积，也就是网格中元素的总数。对于 size = (10, 10)，J 的值为 10 * 10 = 100\n",
    "J = np.prod(size)  #np.prod 是 numpy 库中的函数，用于计算数组元素的乘积\n",
    "hid_layer = 10  #神经网络隐藏层的神经元数量\n",
    "layers = [(2,hid_layer),(hid_layer,2)]\n",
    "#第一个参数 1 表示生成参数的随机种子或生成方式\n",
    "#第二个参数 40 是总参数维度\n",
    "params = gen_params(1,2*hid_layer+hid_layer*2)\n",
    "grid = init_grid(size=size)\n",
    "grid_ = grid.clone()\n",
    "grid__ = grid.clone()\n",
    "plt.imshow(grid)\n",
    "print(grid.sum())"
   ]
  },
  {
   "cell_type": "markdown",
   "metadata": {},
   "source": [
    "平均场Q-learning:主训练循环"
   ]
  },
  {
   "cell_type": "code",
   "execution_count": null,
   "metadata": {},
   "outputs": [],
   "source": [
    "epochs = 75\n",
    "lr = 0.0001\n",
    "num_iter = 3 #num_iter决定了需要迭代多少次来消除平均场动作的初始随机性\n",
    "losses = [ [] for i in range(size[0])] #B\n",
    "replay_size = 50 #C\n",
    "replay = deque(maxlen=replay_size) #D\n",
    "batch_size = 10 #E\n",
    "gamma = 0.9 #F\n",
    "losses = [[] for i in range(J)]\n",
    "\n",
    "for i in range(epochs): \n",
    "    act_means = torch.zeros((J,2)) #G\n",
    "    q_next = torch.zeros(J) #H\n",
    "    for m in range(num_iter): #I\n",
    "        for j in range(J): #J\n",
    "            action_mean = mean_action(grid_,j).detach()\n",
    "            act_means[j] = action_mean.clone()\n",
    "            qvals = qfunc(action_mean.detach(),params[0],layers=layers)\n",
    "            action = softmax_policy(qvals.detach(),temp=0.5)\n",
    "            grid__[get_coords(grid_,j)] = action\n",
    "            q_next[j] = torch.max(qvals).detach()\n",
    "        grid_.data = grid__.data\n",
    "    grid.data = grid_.data\n",
    "    actions = torch.stack([get_substate(a.item()) for a in grid.flatten()])\n",
    "    rewards = torch.stack([get_reward_2d(actions[j],act_means[j]) for j in range(J)])\n",
    "    exp = (actions,rewards,act_means,q_next) #K\n",
    "    replay.append(exp)\n",
    "    shuffle(replay)\n",
    "    if len(replay) > batch_size: #L\n",
    "        ids = np.random.randint(low=0,high=len(replay),size=batch_size) #M\n",
    "        exps = [replay[idx] for idx in ids]\n",
    "        for j in range(J):\n",
    "            jacts = torch.stack([ex[0][j] for ex in exps]).detach()\n",
    "            jrewards = torch.stack([ex[1][j] for ex in exps]).detach()\n",
    "            jmeans = torch.stack([ex[2][j] for ex in exps]).detach()\n",
    "            vs = torch.stack([ex[3][j] for ex in exps]).detach()\n",
    "            qvals = torch.stack([ qfunc(jmeans[h].detach(),params[0],layers=layers) \\\n",
    "                                 for h in range(batch_size)])\n",
    "            target = qvals.clone().detach()\n",
    "            target[:,torch.argmax(jacts,dim=1)] = jrewards + gamma * vs\n",
    "            loss = torch.sum(torch.pow(qvals - target.detach(),2))\n",
    "            losses[j].append(loss.item())\n",
    "            loss.backward()\n",
    "            with torch.no_grad():\n",
    "                params[0] = params[0] - lr * params[0].grad\n",
    "            params[0].requires_grad = True"
   ]
  }
 ],
 "metadata": {
  "kernelspec": {
   "display_name": "rl",
   "language": "python",
   "name": "python3"
  },
  "language_info": {
   "codemirror_mode": {
    "name": "ipython",
    "version": 3
   },
   "file_extension": ".py",
   "mimetype": "text/x-python",
   "name": "python",
   "nbconvert_exporter": "python",
   "pygments_lexer": "ipython3",
   "version": "3.8.20"
  }
 },
 "nbformat": 4,
 "nbformat_minor": 2
}
