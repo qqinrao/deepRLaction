{
 "cells": [
  {
   "cell_type": "markdown",
   "metadata": {},
   "source": [
    "Q函数接收一个状态并生成状态-动作-价值（Q值），然后策略函数使用该值生成一个动作。也可以直接训练一个策略函数，以处理一个状态并返回动作的概率分布。"
   ]
  },
  {
   "cell_type": "markdown",
   "metadata": {},
   "source": [
    "领域Q-learning或子空间Q-learning:承认在大多数环境中，只有彼此接近的智能体才会对彼此产生较大的影响。我们不必模拟环境中所有智能体的联合动作，而是通过仅模拟相同领域内的智能体的联合动作来近似，在某种意义上，我们将整个联合动作空间分成一组重叠的子空间，而仅仅计算这些小得多多子空间多Q值。可以称这种算法为领域Q-learning或子空间Q-learning。"
   ]
  },
  {
   "cell_type": "markdown",
   "metadata": {},
   "source": [
    "每个智能体都有一个视场或领域，他只能看到该领域内其他智能体的动作，但是仍然可以获得环境的完整状态信息。\n",
    "\n",
    "智能体 j 的领域Q 函数接收当前状态和领域（或视场）内其他智能体的联合动作向量$a_{-j}$。他会产生要传递到策略函数的Q 值，而策略函数会选择要采取的动作。"
   ]
  },
  {
   "cell_type": "markdown",
   "metadata": {},
   "source": [
    "一维伊辛模型：创建网格并产生奖励"
   ]
  },
  {
   "cell_type": "markdown",
   "metadata": {},
   "source": [
    "一下代码包含两个函数，第一个函数通过创建一个由呈标准正态分布的数字组成的网格来创建一个随机初始化的一维网格（向量）。然后将所有的非正数设置为 0，将所有正数设置为 1，结果将在网格中得到数量基本相同的 1 和 0."
   ]
  },
  {
   "cell_type": "markdown",
   "metadata": {},
   "source": [
    "第二个函数是奖励函数，用于接收一个二进制的列表 s 和一个二进制数 a，然后比较 s 中又多少个值与a 匹配，如果所有值都匹配，则奖励为最大值，如果都不匹配，则奖励为负。输入 s 将是邻居的列表。"
   ]
  },
  {
   "cell_type": "code",
   "execution_count": 44,
   "metadata": {},
   "outputs": [],
   "source": [
    "import numpy as np\n",
    "import torch\n",
    "from matplotlib import pyplot as plt\n",
    "\n",
    "#初始化多智能体环境\n",
    "def init_grid(size=(10,)):\n",
    "    #*size 是解包操作，将元组 size 中的元素作为参数传递给 torch.randn 函数。\n",
    "    grid = torch.randn(*size)\n",
    "    grid[grid > 0] = 1\n",
    "    grid[grid <= 0] = 0\n",
    "    grid = grid.byte() #将浮点数转换为字节对象使其二进制化\n",
    "    return grid\n",
    "\n",
    "#计算奖励\n",
    "def get_reward(s,a): #此函数接收s中的邻居，并将他们与智能体a比较，如果匹配，则奖励就会更高。\n",
    "    r = -1\n",
    "    for i in s:\n",
    "        if i == a:\n",
    "            r += 0.9\n",
    "    r *= 2.\n",
    "    return r"
   ]
  },
  {
   "cell_type": "code",
   "execution_count": 45,
   "metadata": {},
   "outputs": [
    {
     "data": {
      "text/plain": [
       "tensor([0, 1, 1, 0, 1, 1, 0, 0, 1, 1, 1, 1, 1, 0, 1, 1, 1, 1, 0, 0],\n",
       "       dtype=torch.uint8)"
      ]
     },
     "execution_count": 45,
     "metadata": {},
     "output_type": "execute_result"
    }
   ],
   "source": [
    "size=(20,)\n",
    "grid=init_grid(size=size)\n",
    "grid"
   ]
  },
  {
   "cell_type": "code",
   "execution_count": 46,
   "metadata": {},
   "outputs": [
    {
     "data": {
      "text/plain": [
       "<matplotlib.image.AxesImage at 0x15513f130>"
      ]
     },
     "execution_count": 46,
     "metadata": {},
     "output_type": "execute_result"
    },
    {
     "data": {
      "image/png": "[encoded data removed]",
      "text/plain": [
       "<Figure size 640x480 with 1 Axes>"
      ]
     },
     "metadata": {},
     "output_type": "display_data"
    }
   ],
   "source": [
    "#np.expand_dims 是 NumPy 库中的一个函数，用于在数组的指定位置插入新的轴来扩展数组的维度\n",
    "plt.imshow(np.expand_dims(grid,0))"
   ]
  },
  {
   "cell_type": "markdown",
   "metadata": {},
   "source": [
    "一维伊辛模型：生成神经网络参数\n",
    "\n",
    "由于我们将用一个神经网络来模拟Q 函数，因此需要为他生成参数。"
   ]
  },
  {
   "cell_type": "code",
   "execution_count": 47,
   "metadata": {},
   "outputs": [],
   "source": [
    "def gen_params(N,size): #此函数为神经网络生成一个参数向量列表\n",
    "    ret = []  #存储生成的参数向量\n",
    "    for i in range(N):\n",
    "        #torch.randn(size) ：生成标准正态分布的随机数\n",
    "        #/ 10. ：将参数值缩小10倍，使初始值较小\n",
    "        vec = torch.randn(size) / 10.\n",
    "        vec.requires_grad = True\n",
    "        ret.append(vec)\n",
    "    return ret"
   ]
  },
  {
   "cell_type": "markdown",
   "metadata": {},
   "source": [
    "一维伊辛模型：定义Q 函数\n",
    "\n",
    "由于一维伊辛模型非常简单，我们将通过指定所有的矩阵乘法来手动编写神经网络，而非使用 pytorch 内置的层。我们需要创建一个Q 函数，用于接收一个状态向量和一个参数向量，并将参数向量分解成多个矩阵，以形成神经网络的每一层。"
   ]
  },
  {
   "cell_type": "markdown",
   "metadata": {},
   "source": [
    " 这是用简单的两层神经网络实现的Q 函数，他需要一个状态向量 s（邻居状态的二进制向量）和一个参数向量 theta，他还需要关键字参数 layers，这是一个[(s1,s2),(s3,s4)...]形状的列表，表示各层参数矩阵的形状。所有的Q 函数都会返回每个可能动作的Q 值。\n",
    "\n",
    " 智能体 j 的Q 函数接收一个参数向量和一个独热编码的智能体 j 的邻居联合动作向量。\n",
    "\n",
    " 使用单参数向量的优势是：可以很容易的将多个神经网络的所有参数存储为一个向量列表。我们只需让神经网络将向量分解为层矩阵。之所以用 tanh 激活函数，是因为他的输出范围是[-1,1]，而我们的奖励处于区间[-2,2]，所以+2奖励将强烈的将Q 值输出推向+1.然而我们希望能够在后续项目中复用这个Q 函数，所以将激活函数作为一个可选的关键字参数 afn 来提供。"
   ]
  },
  {
   "cell_type": "code",
   "execution_count": 48,
   "metadata": {},
   "outputs": [],
   "source": [
    "#多智能体强化学习中动作价值计算\n",
    "def qfunc(s,theta,layers=[(4,20),(20,2)],afn=torch.tanh):\n",
    "    l1n = layers[0]   #获取第一层维度（输入 4，隐藏 20）\n",
    "    #np.prod 是 NumPy 库提供的用于计算数组元素乘积的函数\n",
    "    l1s = np.prod(l1n) #取layers中的第一个元组，将这些数相乘以获得theta向量的子集，并将其用作神经网络的第一层\n",
    "    theta_1 = theta[0:l1s].reshape(l1n) #将theta 向量子集重塑为一个矩阵，以用作神经网络的第一层\n",
    "    l2n = layers[1]\n",
    "    l2s = np.prod(l2n)\n",
    "    theta_2 = theta[l1s:l2s+l1s].reshape(l2n)\n",
    "    #网络前向传播\n",
    "    bias = torch.ones((1,theta_1.shape[1]))\n",
    "    l1 = s @ theta_1 + bias #这是第一层计算，其中输入 s 是一个维度为（4,1）的联合动作向量\n",
    "    l1 = torch.nn.functional.elu(l1)  # ELU激活函数\n",
    "    l2 = afn(l1 @ theta_2) #我们也可以输入一个激活函数用于最后一层，默认的是 tanh，因为我们的奖励范围是[-1,1]\n",
    "    return l2.flatten()  # 展平输出为动作价值向量"
   ]
  },
  {
   "cell_type": "markdown",
   "metadata": {},
   "source": [
    "一维伊辛模型：产生环境的状态信息\n",
    "\n",
    "以下代码的函数是为Q 函数准备状态信息所需要的两个辅助函数。get-substate 函数接收一个二进制数（0 表示自旋向下 ，1 表示自旋向上），并将其转换为一个独热编码的动作向量，其中 0 变成动作空间[向下，向上]中的[1,0],1 变成[0,1]。网格只包含一系列代表每个智能体自旋方向的二进制数，但我们需要将这些二进制数转换为动作向量，然后通过求其外积来得到Q 函数的联合动作向量。"
   ]
  },
  {
   "cell_type": "code",
   "execution_count": 49,
   "metadata": {},
   "outputs": [],
   "source": [
    "def get_substate(b): #取一个二进制数，并将其转换成一个类似于[0,1]的独热编码的动作向量\n",
    "    s = torch.zeros(2)  #存储转换后的独热编码动作向量。\n",
    "    if b > 0: #如果输入为 0(向下)，那么动作向量为[1,0]，否则为[0,1]\n",
    "        s[1] = 1\n",
    "    else:\n",
    "        s[0] = 1\n",
    "    return s\n",
    "\n",
    "def joint_state(s): #s是一个包含两个元素的向量，其中s[0]=左邻居，s[1]=右邻居\n",
    "    s1_ = get_substate(s[0]) #获取s中每个元素的动作向量\n",
    "    s2_ = get_substate(s[1])\n",
    "    ret = (s1_.reshape(2,1) @ s2_.reshape(1,2)).flatten() #使用外积创建联合动作空间，然后展平成一个向量\n",
    "    return ret"
   ]
  },
  {
   "cell_type": "markdown",
   "metadata": {},
   "source": [
    "一维伊辛模型：初始化网格"
   ]
  },
  {
   "cell_type": "code",
   "execution_count": 50,
   "metadata": {},
   "outputs": [
    {
     "name": "stdout",
     "output_type": "stream",
     "text": [
      "tensor([0, 1, 0, 0, 1, 0, 1, 1, 1, 0, 1, 0, 1, 0, 0, 0, 1, 1, 1, 0],\n",
      "       dtype=torch.uint8)\n"
     ]
    },
    {
     "data": {
      "text/plain": [
       "<matplotlib.image.AxesImage at 0x151273490>"
      ]
     },
     "execution_count": 50,
     "metadata": {},
     "output_type": "execute_result"
    },
    {
     "data": {
      "image/png": "[encoded data removed]",
      "text/plain": [
       "<Figure size 800x500 with 1 Axes>"
      ]
     },
     "metadata": {},
     "output_type": "display_data"
    }
   ],
   "source": [
    "plt.figure(figsize=(8,5))\n",
    "size = (20,) #将网格的总大小设置为一个长度为 20 的向量\n",
    "hid_layer = 20 #设置隐藏层的大小。本例中的Q 函数是一个两层神经网络，所以只有一个隐藏层\n",
    "params = gen_params(size[0],4*hid_layer+hid_layer*2) #生成一个将参数化Q 函数的参数向量列表\n",
    "grid = init_grid(size=size)\n",
    "grid_ = grid.clone() #复制网格（原因将在主训练循环中变得清晰）\n",
    "print(grid)\n",
    "#expand_dims：在数组的指定位置插入新的轴，从而扩展数组的维度。np.expand_dims 只是增加了数组的维度，并没有改变数组的数据内容\n",
    "#matplotlib 库中的 imshow 函数，用于将数组作为图像显示。\n",
    "plt.imshow(np.expand_dims(grid,0))"
   ]
  },
  {
   "cell_type": "markdown",
   "metadata": {},
   "source": [
    "一维伊辛模型：主训练循环"
   ]
  },
  {
   "cell_type": "markdown",
   "metadata": {},
   "source": [
    "在主训练循环中，遍历所有 20 个智能体。找到每个智能体的左邻居和右邻居，获取他们的联合动作向量，并据次来计算自旋向下和自旋向上这两种可能动作的Q 值。我们建立的一维伊辛模型是一个环形网格，所有智能体都有一个左邻居和一个右邻居。\n",
    "\n",
    "每个智能体都有各自用于参数化Q 函数的相关参数向量，所以每个智能体都由一个单独的深度Q 网络控制。同样由于每个智能体都有相同的最优策略，即与其邻居以相同的方式对齐，因此可以使用单个DQN 来控制所有智能体。我们将在后续项目中使用这种方法，但展示单独建模每个智能体的简易性是很有必要的。在其他环境中，智能体可能有不同的最优策略，此时需要为每个智能体使用单独的DQN。\n",
    "\n",
    "我们简化了主训练循环，以避免干扰。首先，我们使用的策略是$\\epsilon$贪婪策略。因为不存在有时采取随机动作的$\\epsilon$贪婪策略，智能体每次会采取Q 值最高的动作。通常情况下，某种类型的探索策略是必要的，但由于这是一个非常简单的问题，因此模型仍然能够正常工作。"
   ]
  },
  {
   "cell_type": "markdown",
   "metadata": {},
   "source": [
    "主训练循环：对于每个智能体 j，对应 Q 函数接收一个参数向量和智能体 j 的联合动作向量（表示为$a_{-j}$），并输出一个包含两个元素的 Q 值向量作为策略函数的输入。策略函数选择一个动作（一个二进制数），然后将其存储在网格环境的镜像（副本）中。所有智能体都选择了动作后，网格环境的镜像将与主网格同步。然后主网格生成每个智能体的奖励并将其传递给损失函数，由损失函数计算损失并将其反向传播给 Q 函数，最终进入参数向量进行更新。"
   ]
  },
  {
   "cell_type": "code",
   "execution_count": 51,
   "metadata": {},
   "outputs": [],
   "source": [
    "epochs = 200\n",
    "lr = 0.001 \n",
    "#每个智能体独立记录损失\n",
    "losses = [[] for i in range(size[0])] #由于我们要处理多个智能体，而每个智能体由一个单独的Q 函数控制，因此必须跟着多个损失\n",
    "for i in range(epochs):\n",
    "    for j in range(size[0]): #遍历每个智能体\n",
    "        l = j - 1 if j - 1 >= 0 else size[0]-1 #获取左邻居，如果处于开头，则循环到末尾\n",
    "        r = j + 1 if j + 1 < size[0] else 0 #获取右邻居，如果处于末尾，则循环到开头\n",
    "        state_ = grid[[l,r]] #state_是两个二进制数，分别表示左邻域和右邻域的自旋\n",
    "        state = joint_state(state_) #state 是由两个二进制数（代表两个智能体的动作）组成的向量，将其转换成一个独热联合动作向量\n",
    "        #detach()：将 state 张量从计算图中分离出来，得到一个新的张量。分离后的张量不会再参与梯度的计算，在后续的反向传播过程中不会对 state 进行梯度更新\n",
    "        qvals = qfunc(state.float().detach(),params[j],layers=[(4,hid_layer),(hid_layer,2)])\n",
    "        qmax = torch.argmax(qvals,dim=0).detach().item() #策略是采取与最高Q 值相关联的动作\n",
    "        action = int(qmax)\n",
    "        grid_[j] = action #将动作存入网格的临时副本grid_中，只有所有智能体都执行了动作，才将他们复制到主网格中\n",
    "        reward = get_reward(state_.detach(),action)\n",
    "        with torch.no_grad(): \n",
    "            target = qvals.clone()  #target值是Q 值向量，将其中采取的动作关联的Q 值替换成观察奖励\n",
    "            target[action] = reward\n",
    "        loss = torch.sum(torch.pow(qvals - target,2))  #MSE 损失\n",
    "        losses[j].append(loss.detach().numpy())\n",
    "        loss.backward()\n",
    "        with torch.no_grad(): #手动梯度下降\n",
    "            params[j] = params[j] - lr * params[j].grad\n",
    "        params[j].requires_grad = True  #重置梯度状态\n",
    "    with torch.no_grad(): #将临时网格的内容复制到主网格向量中\n",
    "        grid.data = grid_.data  #把临时网格 grid_ 中的动作信息复制到主网格 grid 中"
   ]
  },
  {
   "cell_type": "markdown",
   "metadata": {},
   "source": [
    "绘制网格：\n",
    "\n",
    "以下代码运行图（上面的图）是每个智能体在每个轮次的损失的散点图（每个颜色代表一个不同的智能体）。可以看到，所有损失都下降并稳定在大概 30 个轮次处。运行图（下面的图）是伊辛模型网格，可以看到，电子已经聚集成两个完全对齐的域。中间颜色较浅的部分是一组按向上（1）方向对齐的智能体，其余的则按向下（0）方向对齐。则比开始时使用的随机分布要好得多，所以一维MARL 算法在一维伊辛模型中肯定起了作用\n",
    "\n",
    "运行图（上面的图）每个智能体随着训练轮次变化的损失。可以看到他们都在减小且大约稳定在 30 个轮次处。运行图（下面的图）最大化奖励（最小化能量）后的一维伊辛模型。可以看到所有电子聚集在一起形成域，域中他们的自旋方向完全一致。"
   ]
  },
  {
   "cell_type": "code",
   "execution_count": 52,
   "metadata": {},
   "outputs": [
    {
     "name": "stdout",
     "output_type": "stream",
     "text": [
      "tensor([0, 0, 0, 0, 0, 0, 0, 0, 0, 1, 1, 1, 1, 1, 0, 0, 0, 1, 1, 1],\n",
      "       dtype=torch.uint8) tensor(8)\n"
     ]
    },
    {
     "data": {
      "text/plain": [
       "<matplotlib.image.AxesImage at 0x15a426f70>"
      ]
     },
     "execution_count": 52,
     "metadata": {},
     "output_type": "execute_result"
    },
    {
     "data": {
      "image/png": "[encoded data removed]",
      "text/plain": [
       "<Figure size 640x480 with 2 Axes>"
      ]
     },
     "metadata": {},
     "output_type": "display_data"
    }
   ],
   "source": [
    "fig,ax = plt.subplots(2,1)\n",
    "for i in range(size[0]):\n",
    "    ax[0].scatter(np.arange(len(losses[i])),losses[i])\n",
    "print(grid,grid.sum())\n",
    "ax[1].imshow(np.expand_dims(grid,0))"
   ]
  },
  {
   "cell_type": "markdown",
   "metadata": {},
   "source": [
    "二维伊辛模型：我们将二维伊辛模型表示为一个二维正方形网格（矩阵），这样设计模型中就不存在边界，因此看起来在边界上的智能体实际上与网格对侧的智能体相邻。因此二维网格实际上是一个包裹在球体表面的二维网格。\n",
    "\n",
    "平均场Q-learning 在二维伊辛模型工作：二维伊辛模型除了一个二维网格（矩阵），其他方面与一维版本的完全相同。网格实际上包裹在一个球体表面。\n",
    "\n",
    "用于二维伊辛模型的第一个新函数是 softmax 函数。\n",
    "\n",
    "softmax 函数在数学上的定义：$P_{t}(a)=\\frac{exp(\\frac{q_{t}(a)}{\\tau})}{\\sum_{i=1}^{n}exp \\frac{q_{t}(a)}{\\tau}}$"
   ]
  },
  {
   "cell_type": "code",
   "execution_count": 53,
   "metadata": {},
   "outputs": [],
   "source": [
    "from collections import deque #使用双端队列数据结构作为经验回放存储列表，因为他可以设置最大容量\n",
    "from random import shuffle #使用shuffle函数将经验回放缓冲器中的内容随机排序\n",
    "\n",
    "#temp：温度参数，控制softmax分布的平滑程度，较高的温度会使分布更加平滑，动作选择更加随机；较低的温度会使分布更加集中，动作选择更加倾向于Q值较高的动作\n",
    "def softmax_policy(qvals,temp=0.9): #这个策略函数接收一个Q值向量并返回一个动作 0（向下）或 1（向上）\n",
    "    soft = torch.exp(qvals/temp) / torch.sum(torch.exp(qvals/temp)) #softmax 函数 的定义\n",
    "    #1 表示要选择的元素数量，这里选择 1 个动作\n",
    "    action = torch.multinomial(soft,1) #softmax 函数将 Q 值转换为一个动作的概率分布。使用 multinomial 函数随机选择一个概率加权的动作\n",
    "    return action"
   ]
  },
  {
   "cell_type": "markdown",
   "metadata": {},
   "source": [
    "平均场Q-learning：坐标和奖励函数"
   ]
  },
  {
   "cell_type": "markdown",
   "metadata": {},
   "source": [
    "由于在二维网格中使用[x,y]坐标索引智能体不方便，因此通常将二维网格扁平化为一个向量来使用单个索引值检索智能体，但需要能将这个扁平化的索引转换为[x,y]坐标，这就是get_coords 函数所实现的功能。get_reward_2d 是用于二维网格的新奖励函数，可用于会计算动作向量与平均场向量之间的差异。"
   ]
  },
  {
   "cell_type": "code",
   "execution_count": 54,
   "metadata": {},
   "outputs": [],
   "source": [
    "def get_coords(grid,j): #接收扁平网格中的单个索引值，并将其转换会[x,y]坐标\n",
    "    #np.floor：numpy 库中的 floor 函数，用于向下取整，将行号转换为整数\n",
    "    x = int(np.floor(j / grid.shape[0])) #获取x坐标\n",
    "    y = int(j - x * grid.shape[0]) #获取y坐标\n",
    "    return x,y\n",
    "\n",
    "def get_reward_2d(action,action_mean): #二维网格的奖励函数\n",
    "    r = (action*(action_mean-action/2)).sum()/action.sum() #奖励基于动作和平均场动作的差异程度生成\n",
    "    return torch.tanh(5 * r) #使用tanh函数将奖励缩放到[-1,+1]内"
   ]
  },
  {
   "cell_type": "code",
   "execution_count": 55,
   "metadata": {},
   "outputs": [
    {
     "name": "stdout",
     "output_type": "stream",
     "text": [
      "tensor(-0.8483) tensor(0.8483)\n"
     ]
    }
   ],
   "source": [
    "x1 = get_reward_2d(torch.Tensor([1,0]),torch.Tensor([0.25, 0.75]))\n",
    "x2 = get_reward_2d(torch.Tensor([0,1]),torch.Tensor([0.25, 0.75]))\n",
    "print(x1,x2)"
   ]
  },
  {
   "cell_type": "markdown",
   "metadata": {},
   "source": [
    "平均场Q-learning：计算平均场动作向量"
   ]
  },
  {
   "cell_type": "markdown",
   "metadata": {},
   "source": [
    "以下代码将接收一个智能体索引 j（单个整数，基于扁平网格的索引），并返回网格上该智能体最邻近（周围）的 8 个智能体的平均动作。我们通过获取智能体的坐标来找到 8 个最邻近的智能体，然后将每个[x,y]组合相加。"
   ]
  },
  {
   "cell_type": "code",
   "execution_count": 56,
   "metadata": {},
   "outputs": [],
   "source": [
    "def mean_action(grid,j):\n",
    "    x,y = get_coords(grid,j) #将向量化索引 j 转换为网格坐标[x,y],其中[0,0]表示左上角\n",
    "    action_mean = torch.zeros(2) #这就是我们要增加的动作均值向量\n",
    "    for i in [-1,0,1]: #两个for 循环可用于找到距离智能体 j 最近的八个邻居\n",
    "        for k in [-1,0,1]:\n",
    "            if i == k == 0:  #跳过当前位置本身\n",
    "                continue\n",
    "            x_,y_ = x + i, y + k\n",
    "            x_ = x_ if x_ >= 0 else grid.shape[0] - 1\n",
    "            y_ = y_ if y_ >= 0 else grid.shape[1] - 1\n",
    "            x_ = x_ if x_ <  grid.shape[0] else 0\n",
    "            y_ = y_ if y_ < grid.shape[1] else 0\n",
    "            cur_n = grid[x_,y_]\n",
    "            s = get_substate(cur_n) #将每个邻居的二进制自旋转换为一个动作向量\n",
    "            action_mean += s  #将邻居的子状态累加到 action_mean 向量上\n",
    "    action_mean /= action_mean.sum() #将动作向量归一化为一个概率分布\n",
    "    return action_mean"
   ]
  },
  {
   "cell_type": "markdown",
   "metadata": {},
   "source": [
    "这是一个随机初始化的二维伊辛模型。其中，每个方格代表一个电子，浅色方格代表自旋向上的电子，深色方格代表自旋向下的电子"
   ]
  },
  {
   "cell_type": "code",
   "execution_count": 57,
   "metadata": {},
   "outputs": [
    {
     "name": "stdout",
     "output_type": "stream",
     "text": [
      "tensor(58)\n"
     ]
    },
    {
     "data": {
      "image/png": "[encoded data removed]",
      "text/plain": [
       "<Figure size 640x480 with 1 Axes>"
      ]
     },
     "metadata": {},
     "output_type": "display_data"
    }
   ],
   "source": [
    "size = (10,10)\n",
    "#np.prod(size)计算size元组中元素的乘积，也就是网格中元素的总数。对于 size = (10, 10)，J 的值为 10 * 10 = 100\n",
    "J = np.prod(size)  #np.prod 是 numpy 库中的函数，用于计算数组元素的乘积\n",
    "hid_layer = 10  #神经网络隐藏层的神经元数量\n",
    "layers = [(2,hid_layer),(hid_layer,2)]\n",
    "#第一个参数 1 表示生成参数的随机种子或生成方式\n",
    "#第二个参数 40 是总参数维度\n",
    "params = gen_params(1,2*hid_layer+hid_layer*2)\n",
    "grid = init_grid(size=size)\n",
    "grid_ = grid.clone()\n",
    "grid__ = grid.clone()\n",
    "plt.imshow(grid)\n",
    "print(grid.sum())"
   ]
  },
  {
   "cell_type": "markdown",
   "metadata": {},
   "source": [
    "平均场Q-learning:主训练循环"
   ]
  },
  {
   "cell_type": "markdown",
   "metadata": {},
   "source": [
    " 虽然代码很长，但只比一维伊辛模型稍微复杂一点。首先要指出的是，由于每个智能体的平常场依赖于他的邻居，而邻居的自旋是随机初始化的，因此一开始所有的平均场也是随机值。为了帮助收敛，我们首先允许每个智能体基于这些随机平均场选择一个动作，并将该动作存储在临时网格副本grid_中，以便在所有智能体做出采取那个动作的最终决定之前，主网格保持不变。每个智能体在 grid_中做出尝试性动作之后，我们就更新第二个临时网格副本grid_，并使用他来计算平均场。在下一个迭代中，平均场将会改变，我们将运行智能体更新他们的试验性动作。这样重复几次（由num_iter 参数控制决定重复次数），以允许动作根据Q 函数的当前版本稳定在最优值附近。然后更新主网格并收集所有动作、奖励、平均场和q_next 值（$V(S_{t+1})$），并将他们添加到经验回放缓冲器。"
   ]
  },
  {
   "cell_type": "markdown",
   "metadata": {},
   "source": [
    "一旦回放缓冲器中的经验值数量大于批大小参数，我们就可以开始在小批量经验上进行训练。我们生成一个随机索引值列表，并用其获取回放缓冲器中一些随机经验的子集。然后像往常一样运行一步梯度下降"
   ]
  },
  {
   "cell_type": "code",
   "execution_count": 58,
   "metadata": {},
   "outputs": [],
   "source": [
    "epochs = 75\n",
    "lr = 0.0001\n",
    "num_iter = 3 #num_iter决定了需要迭代多少次来消除平均场动作的初始随机性\n",
    "losses = [ [] for i in range(size[0])] #创建一个列表，以存储每个智能体的损失\n",
    "replay_size = 50 #replay_size决定了我们在经验回放列表中存储的经验总数\n",
    "replay = deque(maxlen=replay_size) #经验回放是一个 deque集合，他本质上是一个具有最大容量的列表\n",
    "batch_size = 10 #设置批大小为 10，这样我们会从回放中获得一个包含 10 条经验的随机子集，并使用他进行训练\n",
    "gamma = 0.9 #贴现因子\n",
    "losses = [[] for i in range(J)]\n",
    "\n",
    "for i in range(epochs): \n",
    "    act_means = torch.zeros((J,2)) #存储所有智能体的平均场动作\n",
    "    q_next = torch.zeros(J) #存储执行动作后下一状态的Q值\n",
    "    for m in range(num_iter): #由于平均场是随机初始化的，因此我们迭代几次以稀释初始化随机性\n",
    "        for j in range(J): #遍历网格中的所有智能体\n",
    "            action_mean = mean_action(grid_,j).detach()\n",
    "            act_means[j] = action_mean.clone()\n",
    "            qvals = qfunc(action_mean.detach(),params[0],layers=layers)\n",
    "            action = softmax_policy(qvals.detach(),temp=0.5)\n",
    "            grid__[get_coords(grid_,j)] = action\n",
    "            q_next[j] = torch.max(qvals).detach()#记录下一状态的最大 Q 值\n",
    "        grid_.data = grid__.data  \n",
    "    grid.data = grid_.data  #将 grid_ 的内容更新到主网格 grid 中\n",
    "    actions = torch.stack([get_substate(a.item()) for a in grid.flatten()])\n",
    "    rewards = torch.stack([get_reward_2d(actions[j],act_means[j]) for j in range(J)])\n",
    "    exp = (actions,rewards,act_means,q_next) #收集一条经验并将其添加到经验回放缓冲器中\n",
    "    replay.append(exp)\n",
    "    #shuffle：Python random 模块中的函数，用于打乱列表中元素的顺序。这里将经验回放缓冲器中经验的顺序打乱，增加训练数据的随机性。\n",
    "    shuffle(replay)\n",
    "    if len(replay) > batch_size: #一旦经验回放缓冲器中的经验数量大于批大小参数，就开始训练\n",
    "        ids = np.random.randint(low=0,high=len(replay),size=batch_size) #生成一系列随机索引来取回缓冲器的子集\n",
    "        exps = [replay[idx] for idx in ids]\n",
    "        for j in range(J):\n",
    "            #torch.stack：PyTorch 函数，用于在新的维度上对张量进行堆叠。\n",
    "            jacts = torch.stack([ex[0][j] for ex in exps]).detach()\n",
    "            jrewards = torch.stack([ex[1][j] for ex in exps]).detach()\n",
    "            jmeans = torch.stack([ex[2][j] for ex in exps]).detach()\n",
    "            vs = torch.stack([ex[3][j] for ex in exps]).detach()   #动作、奖励、平均场动作和下一状态的 Q 值。\n",
    "            qvals = torch.stack([ qfunc(jmeans[h].detach(),params[0],layers=layers) \\\n",
    "                                 for h in range(batch_size)])\n",
    "            target = qvals.clone().detach()\n",
    "            target[:,torch.argmax(jacts,dim=1)] = jrewards + gamma * vs\n",
    "            loss = torch.sum(torch.pow(qvals - target.detach(),2))\n",
    "            losses[j].append(loss.item())\n",
    "            loss.backward()\n",
    "            with torch.no_grad():\n",
    "                params[0] = params[0] - lr * params[0].grad\n",
    "            params[0].requires_grad = True"
   ]
  },
  {
   "cell_type": "code",
   "execution_count": 59,
   "metadata": {},
   "outputs": [
    {
     "data": {
      "text/plain": [
       "<matplotlib.image.AxesImage at 0x1699ad6d0>"
      ]
     },
     "execution_count": 59,
     "metadata": {},
     "output_type": "execute_result"
    },
    {
     "data": {
      "image/png": "[encoded data removed]",
      "text/plain": [
       "<Figure size 1000x1000 with 2 Axes>"
      ]
     },
     "metadata": {},
     "output_type": "display_data"
    }
   ],
   "source": [
    "#subplots(2, 1)：创建一个包含多个子图的 Figure 对象。参数 2：表示子图的行数（垂直排列），参数 1：表示子图的列数（水平排列）\n",
    "fig,ax = plt.subplots(2,1)\n",
    "#参数 10：表示宽度（第一个参数），参数 10：表示高度（第二个参数）\n",
    "fig.set_size_inches(10,10)\n",
    "ax[0].plot(np.array(losses).mean(axis=0))\n",
    "ax[1].imshow(grid)"
   ]
  },
  {
   "cell_type": "code",
   "execution_count": 60,
   "metadata": {},
   "outputs": [
    {
     "name": "stdout",
     "output_type": "stream",
     "text": [
      "Package              Version\n",
      "-------------------- ---------\n",
      "ale-py               0.9.1\n",
      "appnope              0.1.4\n",
      "asttokens            3.0.0\n",
      "backcall             0.2.0\n",
      "Brotli               1.0.9\n",
      "certifi              2024.8.30\n",
      "cffi                 1.17.0\n",
      "charset-normalizer   3.4.0\n",
      "cloudpickle          3.1.0\n",
      "comm                 0.2.2\n",
      "contourpy            1.1.1\n",
      "cycler               0.11.0\n",
      "debugpy              1.8.5\n",
      "decorator            5.1.1\n",
      "executing            2.1.0\n",
      "Farama-Notifications 0.0.4\n",
      "filelock             3.16.1\n",
      "fonttools            4.53.1\n",
      "fsspec               2025.3.0\n",
      "gym                  0.24.0\n",
      "gym-notices          0.0.8\n",
      "gym-super-mario-bros 7.3.0\n",
      "gymnasium            0.29.1\n",
      "h2                   4.1.0\n",
      "hpack                4.0.0\n",
      "hyperframe           6.0.1\n",
      "idna                 3.10\n",
      "imagecodecs          2023.1.23\n",
      "imageio              2.35.1\n",
      "importlib_metadata   8.5.0\n",
      "importlib_resources  6.4.5\n",
      "ipykernel            6.29.5\n",
      "ipython              8.12.2\n",
      "jax-jumpy            1.0.0\n",
      "jedi                 0.19.1\n",
      "Jinja2               3.1.6\n",
      "jupyter_client       8.6.3\n",
      "jupyter_core         5.7.2\n",
      "kiwisolver           1.4.5\n",
      "lazy_loader          0.4\n",
      "magent2              0.3.3\n",
      "MarkupSafe           2.1.5\n",
      "matplotlib           3.7.3\n",
      "matplotlib-inline    0.1.7\n",
      "mpmath               1.3.0\n",
      "munkres              1.1.4\n",
      "nes_py               8.1.4\n",
      "nest_asyncio         1.6.0\n",
      "networkx             3.1\n",
      "numpy                1.24.3\n",
      "packaging            24.2\n",
      "parso                0.8.4\n",
      "pettingzoo           1.24.3\n",
      "pexpect              4.9.0\n",
      "pickleshare          0.7.5\n",
      "Pillow               10.0.0\n",
      "pip                  24.3.1\n",
      "platformdirs         4.3.6\n",
      "pooch                1.8.2\n",
      "prompt_toolkit       3.0.48\n",
      "psutil               6.0.0\n",
      "ptyprocess           0.7.0\n",
      "pure_eval            0.2.3\n",
      "pycparser            2.22\n",
      "pygame               2.6.1\n",
      "pyglet               2.1.3\n",
      "Pygments             2.18.0\n",
      "pyparsing            3.1.4\n",
      "PySocks              1.7.1\n",
      "python-dateutil      2.9.0\n",
      "PyWavelets           1.4.1\n",
      "pyzmq                26.2.0\n",
      "requests             2.32.3\n",
      "scikit-image         0.21.0\n",
      "scipy                1.10.1\n",
      "setuptools           75.3.0\n",
      "six                  1.16.0\n",
      "stack-data           0.6.2\n",
      "sympy                1.13.3\n",
      "tifffile             2023.7.10\n",
      "torch                2.4.1\n",
      "tornado              6.4.1\n",
      "tqdm                 4.67.1\n",
      "traitlets            5.14.3\n",
      "typing_extensions    4.12.2\n",
      "unicodedata2         15.1.0\n",
      "urllib3              2.2.3\n",
      "wcwidth              0.2.13\n",
      "wheel                0.45.1\n",
      "zipp                 3.21.0\n",
      "zstandard            0.19.0\n",
      "Note: you may need to restart the kernel to use updated packages.\n"
     ]
    }
   ],
   "source": [
    "%pip list"
   ]
  },
  {
   "cell_type": "code",
   "execution_count": 61,
   "metadata": {},
   "outputs": [
    {
     "name": "stdout",
     "output_type": "stream",
     "text": [
      "Requirement already satisfied: magent2 in /opt/anaconda3/envs/rl/lib/python3.8/site-packages (0.3.3)\n",
      "Requirement already satisfied: numpy<2.0,>=1.21.0 in /opt/anaconda3/envs/rl/lib/python3.8/site-packages (from magent2) (1.24.3)\n",
      "Requirement already satisfied: pygame>=2.1.0 in /opt/anaconda3/envs/rl/lib/python3.8/site-packages (from magent2) (2.6.1)\n",
      "Requirement already satisfied: pettingzoo>=1.23.1 in /opt/anaconda3/envs/rl/lib/python3.8/site-packages (from magent2) (1.24.3)\n",
      "Requirement already satisfied: gymnasium>=0.28.0 in /opt/anaconda3/envs/rl/lib/python3.8/site-packages (from pettingzoo>=1.23.1->magent2) (0.29.1)\n",
      "Requirement already satisfied: cloudpickle>=1.2.0 in /opt/anaconda3/envs/rl/lib/python3.8/site-packages (from gymnasium>=0.28.0->pettingzoo>=1.23.1->magent2) (3.1.0)\n",
      "Requirement already satisfied: typing-extensions>=4.3.0 in /opt/anaconda3/envs/rl/lib/python3.8/site-packages (from gymnasium>=0.28.0->pettingzoo>=1.23.1->magent2) (4.12.2)\n",
      "Requirement already satisfied: farama-notifications>=0.0.1 in /opt/anaconda3/envs/rl/lib/python3.8/site-packages (from gymnasium>=0.28.0->pettingzoo>=1.23.1->magent2) (0.0.4)\n",
      "Requirement already satisfied: importlib-metadata>=4.8.0 in /opt/anaconda3/envs/rl/lib/python3.8/site-packages (from gymnasium>=0.28.0->pettingzoo>=1.23.1->magent2) (8.5.0)\n",
      "Requirement already satisfied: zipp>=3.20 in /opt/anaconda3/envs/rl/lib/python3.8/site-packages (from importlib-metadata>=4.8.0->gymnasium>=0.28.0->pettingzoo>=1.23.1->magent2) (3.21.0)\n",
      "Note: you may need to restart the kernel to use updated packages.\n"
     ]
    }
   ],
   "source": [
    "%pip install magent2"
   ]
  },
  {
   "cell_type": "markdown",
   "metadata": {},
   "source": [
    "创建 magent 环境"
   ]
  },
  {
   "cell_type": "code",
   "execution_count": 62,
   "metadata": {},
   "outputs": [],
   "source": [
    "import magent2\n",
    "#from magent2.environments import battle_v4\n",
    "import math\n",
    "from scipy.spatial.distance import cityblock #从scipy导入 cityblock 距离函数，以计算网格上智能体之间的距离\n",
    "map_size = 30\n",
    "#magent2.GridWorld：用于创建基于网格的多智能体环境\n",
    "env = magent2.GridWorld(\"battle\", map_size=map_size) #以battle模式设置一个30*30 的网格环境\n",
    "#env = battle_v4.env(render_mode='human')\n",
    "#set_render_dir：magent2.GridWorld 类的一个方法，用于设置环境渲染结果的保存目录。\n",
    "#\"MAgent/build/render\"：指定渲染结果保存的目录路径。设置这个目录后，在训练完成后可以查看游戏的渲染结果。\n",
    "env.set_render_dir(\"MAgent/build/render\") #设置训练后查看游戏的能力\n",
    "#get_handles：magent2.GridWorld 类的一个方法，用于获取环境中不同团队的句柄。\n",
    "team1, team2 = env.get_handles() #初始化两个团队对象"
   ]
  },
  {
   "cell_type": "markdown",
   "metadata": {},
   "source": [
    "添加智能体"
   ]
  },
  {
   "cell_type": "code",
   "execution_count": 63,
   "metadata": {},
   "outputs": [],
   "source": [
    "hid_layer = 25\n",
    "in_size = 359  #神经网络输入层的神经元数量。这意味着输入到神经网络的数据维度为 359，也许是智能体的状态信息等。\n",
    "act_space = 21\n",
    "layers = [(in_size,hid_layer),(hid_layer,act_space)]\n",
    "#2：推测是要生成两组参数向量，可能对应两个不同的深度 Q 网络（DQN）\n",
    "#第二个参数:计算的是神经网络中需要学习的参数总数。\n",
    "#in_size*hid_layer 是输入层到隐藏层的连接权重数量，\n",
    "#hid_layer*act_space 是隐藏层到输出层的连接权重数量。\n",
    "params = gen_params(2,in_size*hid_layer+hid_layer*act_space) #生成两个参数向量。用于参数化两个DQN\n",
    "map_size = 30\n",
    "width = height = map_size\n",
    "n1 = n2 = 16 #设置每个团队智能体数量为 16\n",
    "gap = 1 #设置每个团队智能体之间的初始间隙距离。\n",
    "epochs = 100\n",
    "replay_size = 70  #表示经验回放缓冲区的大小 \n",
    "batch_size = 25\n",
    "\n",
    "\n",
    "side1 = int(math.sqrt(n1)) * 2  #计算阵型边长（√16=4 → 8）\n",
    "pos1 = [] #存储团队 1 智能体的位置\n",
    "for x in range(width//2 - gap - side1, width//2 - gap - side1 + side1, 2): #循环将团队1的智能体放置在网格左侧  （起始值，结束值，步长 2）\n",
    "    for y in range((height - side1)//2, (height - side1)//2 + side1, 2):\n",
    "        pos1.append([x, y, 0])  #三维坐标（x,y,0）\n",
    "\n",
    "side2 = int(math.sqrt(n2)) * 2\n",
    "pos2 = []\n",
    "for x in range(width//2 + gap, width//2 + gap + side2, 2): #循环将团队2的智能体放置在网格右侧\n",
    "    for y in range((height - side2)//2, (height - side2)//2 + side2, 2):\n",
    "        pos2.append([x, y, 0])\n",
    "        \n",
    "env.reset()\n",
    "env.add_agents(team1, method=\"custom\", pos=pos1) #使用刚刚创建的位置列表将团队1的智能体添加到表格\n",
    "env.add_agents(team2, method=\"custom\", pos=pos2)\n"
   ]
  },
  {
   "cell_type": "code",
   "execution_count": 64,
   "metadata": {},
   "outputs": [
    {
     "data": {
      "text/plain": [
       "<matplotlib.image.AxesImage at 0x169f0e580>"
      ]
     },
     "execution_count": 64,
     "metadata": {},
     "output_type": "execute_result"
    },
    {
     "data": {
      "image/png": "[encoded data removed]",
      "text/plain": [
       "<Figure size 640x480 with 1 Axes>"
      ]
     },
     "metadata": {},
     "output_type": "display_data"
    }
   ],
   "source": [
    "plt.imshow(env.get_global_minimap(30,30)[:,:,:].sum(axis=2))"
   ]
  },
  {
   "cell_type": "markdown",
   "metadata": {},
   "source": [
    "查找邻居：以下代码来查找每个智能体邻域内的邻居，以计算平均场动作向量。"
   ]
  },
  {
   "cell_type": "code",
   "execution_count": null,
   "metadata": {},
   "outputs": [],
   "source": [
    "def get_neighbors(j,pos_list,r=6): #给定pos_list 中所有智能体的位置[x,y]，返回智能体j 半径范围内的智能体的索引\n",
    "    neighbors = []\n",
    "    pos_j = pos_list[j]\n",
    "    #enumerate:Python的内置函数，将一个可迭代对象（pos_list）组合为一个索引序列，同时返回索引和对应的元素\n",
    "    #i：当前遍历到的智能体的索引\n",
    "    #pos：当前遍历到的智能体的位置\n",
    "    for i,pos in enumerate(pos_list):\n",
    "        #如果当前遍历到的智能体的索引 i 等于目标智能体的索引 j，说明是目标智能体本身，需要跳过。\n",
    "        if i == j:\n",
    "            continue\n",
    "        #曼哈顿距离计算（适用于网格移动规则）\n",
    "        dist = cityblock(pos,pos_j) #实际使用二维距离（z坐标未参与计算）\n",
    "        if dist < r:\n",
    "            neighbors.append(i) #记录智能体索引\n",
    "    return neighbors\n"
   ]
  },
  {
   "cell_type": "markdown",
   "metadata": {},
   "source": [
    "使用env.get_pos(team1)得到团队 1 中每个智能体的坐标列表，然后将其与一个索引 j 传递给get_neighbors 函数，从而查找智能体 j 的邻居"
   ]
  },
  {
   "cell_type": "code",
   "execution_count": 66,
   "metadata": {},
   "outputs": [
    {
     "data": {
      "text/plain": [
       "[0, 1, 2, 4, 6, 7, 8, 9, 10, 13]"
      ]
     },
     "execution_count": 66,
     "metadata": {},
     "output_type": "execute_result"
    }
   ],
   "source": [
    "get_neighbors(5,env.get_pos(team1))"
   ]
  },
  {
   "cell_type": "markdown",
   "metadata": {},
   "source": [
    "获取平均场动作向量\n",
    "\n",
    "获取智能体周围邻居的平均场动作向量"
   ]
  },
  {
   "cell_type": "markdown",
   "metadata": {},
   "source": [
    "get_mean_field 函数首先调用get_neighbors 函数获取智能体 j 的所有相邻智能体的坐标，然后使用这些坐标得到智能体的动作向量，将他们相加，并除以智能体的总数量以实现归一化。get_mean_field 函数期望得到相应的动作向量act_list（一个基于整数的动作列表），以pos_list和act_list中的索引匹配相同的智能体。此外，参数 r 是我们想要包含为邻居的智能体 j 周围网格正方形的半径，l 是动作空间大小，值为 21"
   ]
  },
  {
   "cell_type": "markdown",
   "metadata": {},
   "source": []
  },
  {
   "cell_type": "code",
   "execution_count": null,
   "metadata": {},
   "outputs": [],
   "source": [
    "#a：表示动作的整数索引，这个索引指明了独热向量中值为 1 的位置\n",
    "#l：独热向量的长度，默认值为 21\n",
    "def get_onehot(a,l=21): #将动作的整数表示转换为独热向量表示\n",
    "    x = torch.zeros(21)\n",
    "    x[a] = 1\n",
    "    return x\n",
    "\n",
    "def get_scalar(v): #将动作的独热向量表示转换为整数表示\n",
    "    return torch.argmax(v)\n",
    "\n",
    "\n",
    "\"\"\"\n",
    "j:目标智能体的索引\n",
    "pos_list:智能体的位置列表，一般是 env.get_pos(team1) 的返回值。\n",
    "act_list:智能体的动作列表，其中每个元素是对应智能体的动作的整数表示\n",
    "r:查找邻居的半径\n",
    "l:动作空间的大小\n",
    "\"\"\"\n",
    "def get_mean_field(j,pos_list,act_list,r=7,l=21): #获取智能体j的平均场动作向量，其中pos_list 是env.get_pos（team1）的返回值，1 是动作空间大小\n",
    "    neighbors = get_neighbors(j,pos_list,r=r) #使用pos_list 查找智能体的所有邻居\n",
    "    mean_field = torch.zeros(l)\n",
    "    for k in neighbors:\n",
    "        act_ = act_list[k]\n",
    "        act = get_onehot(act_)\n",
    "        mean_field += act #把邻居智能体 k 的动作独热向量累加到 mean_field 中\n",
    "    tot = mean_field.sum()  #计算 mean_field 中所有元素的总和\n",
    "    mean_field = mean_field / tot if tot > 0 else mean_field #确保不被0除\n",
    "    return mean_field"
   ]
  },
  {
   "cell_type": "markdown",
   "metadata": {},
   "source": [
    "得到一个观察值后，使用infer_acts 函数为每个智能体选着所有动作。它利用一个由 param 和 layers 参数化的平均场Q 函数对使用 softmax 策略的所有智能体动作进行抽样。infer_acts 函数接收并使用以下参数和变量（并附带每个参数的向量形状）"
   ]
  },
  {
   "cell_type": "markdown",
   "metadata": {},
   "source": [
    "obs 是观察张量N✖️13✖️13✖️2\n",
    "\n",
    "mean_fields 是包含每个智能体的所有平均场所动作的张量N✖️21\n",
    "\n",
    "pos_list 是env.get_pos 返回的每个智能体的位置列表\n",
    "\n",
    "acts 是每个智能体(N,)的整数表示的动作向量\n",
    "\n",
    "num_iter是在动作抽样和策略更新之间交替的次数\n",
    "\n",
    "temp 是 softmax 策略的温度，用于控制探索率。该函数返回一个元组\n",
    "\n",
    "acts_是一个从策略抽样的整数动作向量(N,)\n",
    "\n",
    "mean_fields_是每个智能体的平均场向量张量(N,21)\n",
    "\n",
    "qvals 是每个智能体的每个动作的 Q 值张量(N,21)"
   ]
  },
  {
   "cell_type": "code",
   "execution_count": null,
   "metadata": {},
   "outputs": [],
   "source": [
    "def infer_acts(obs,param,layers,pos_list,acts,act_space=21,num_iter=5,temp=0.5):\n",
    "    N = acts.shape[0] #获取智能体的数量\n",
    "    mean_fields = torch.zeros(N,act_space)\n",
    "    acts_ = acts.clone() #复制动作向量，以免改变原始值\n",
    "    qvals = torch.zeros(N,act_space)\n",
    "\n",
    "    for i in range(num_iter): #交替几次，以在动作上收敛\n",
    "        for j in range(N): #循环遍历智能体并计算他们的邻域平均场动作向量。\n",
    "            mean_fields[j] = get_mean_field(j,pos_list,acts_)\n",
    "\n",
    "        #策略网络前向传播\n",
    "        for j in range(N): #使用平均场动作和状态计算 Q 值，并使用 softmax 策略选择动作\n",
    "            #将环境状态与群体行为特征融合\n",
    "            # torch.cat：PyTorch 中的一个函数，用于将多个张量沿着指定的维度进行拼接\n",
    "            state = torch.cat((obs[j].flatten(),mean_fields[j]))\n",
    "            qs = qfunc(state.detach(),param,layers=layers)  #阻断平均场梯度反传\n",
    "            qvals[j,:] = qs[:] #计算得到的 Q 值存储在 qvals 张量的第 j 行\n",
    "            acts_[j] = softmax_policy(qs.detach(),temp=temp)\n",
    "    return acts_, mean_fields, qvals\n",
    "\n",
    "def init_mean_field(N,act_space=21):  #随机初始化平均场动作向量\n",
    "    #torch.abs(...)：取随机张量的绝对值，确保元素为非负数\n",
    "    mean_fields = torch.abs(torch.rand(N,act_space))\n",
    "    for i in range(mean_fields.shape[0]):\n",
    "        mean_fields[i] = mean_fields[i] / mean_fields[i].sum()\n",
    "    return mean_fields"
   ]
  },
  {
   "cell_type": "markdown",
   "metadata": {},
   "source": [
    "训练函数\n",
    "\n",
    "train 函数使用经验回放缓冲器中存储的经验来训练单个神经网络，它有以下输入和输出：\n",
    "\n",
    "输入：\n",
    "\n",
    "batch_size(int);\n",
    "\n",
    "replay,元组列表(obs_1_small,acts_1,rewards1,act_means1,qnext1);\n",
    "\n",
    "param(vector),神经网络参数向量\n",
    "\n",
    "layers(list),包含神经网络的形状\n",
    "\n",
    "J(int),团队中智能体的数量\n",
    "\n",
    "gamma([0,1]内的浮点数),贴现因子\n",
    "\n",
    "lr(float),SGD 的学习率\n",
    "\n",
    "返回值：\n",
    "\n",
    "loss(float)"
   ]
  },
  {
   "cell_type": "code",
   "execution_count": null,
   "metadata": {},
   "outputs": [],
   "source": [
    "def train(batch_size,replay,param,layers,J=64,gamma=0.5,lr=0.001):\n",
    "    ids = np.random.randint(low=0,high=len(replay),size=batch_size)  #生成一个随机的索引列表来取经验回放的子集\n",
    "    exps = [replay[idx] for idx in ids]  #取经验回放缓冲器的子集来得到一小批数据\n",
    "    losses = []\n",
    "    jobs = torch.stack([ex[0] for ex in exps]).detach() #将小批次中的所有状态收集到一个张量中\n",
    "    jacts = torch.stack([ex[1] for ex in exps]).detach()  #将小批次中的所有动作收集到一个张量中\n",
    "    jrewards = torch.stack([ex[2] for ex in exps]).detach() #将小批次中的所有奖励收集到一个张量中\n",
    "    jmeans = torch.stack([ex[3] for ex in exps]).detach()  #将小批次中的所有平均场动作收集到一个张量中\n",
    "    vs = torch.stack([ex[4] for ex in exps]).detach()  ##将小批次中的所有状态值收集到一个张量中\n",
    "    qs = []\n",
    "    for h in range(batch_size): #循环遍历小批次中的每天经验\n",
    "        state = torch.cat((jobs[h].flatten(),jmeans[h]))\n",
    "        qs.append(qfunc(state.detach(),param,layers=layers))  #为回放中的每条经验计算 Q 值\n",
    "    qvals = torch.stack(qs)  #存储每个样本的 Q 值\n",
    "    target = qvals.clone().detach()\n",
    "    target[:,jacts] = jrewards + gamma * torch.max(vs,dim=1)[0] #计算目标Q值\n",
    "    loss = torch.sum(torch.pow(qvals - target.detach(),2))\n",
    "    losses.append(loss.detach().item())\n",
    "    loss.backward()\n",
    "    #SGD\n",
    "    with torch.no_grad():   #随机梯度下降\n",
    "        param = param - lr * param.grad\n",
    "    param.requires_grad = True\n",
    "    return np.array(losses).mean()"
   ]
  },
  {
   "cell_type": "markdown",
   "metadata": {},
   "source": [
    " 初始化动作\n",
    "\n",
    " 以下代码中的变量记录每个智能体的动作（整数）、平均场动作向量、奖励和下一个状态的 Q 值，以便能够将这些信息打包到经验中，并将他们添加到经验回放系统中"
   ]
  },
  {
   "cell_type": "code",
   "execution_count": null,
   "metadata": {},
   "outputs": [],
   "source": [
    "N1 = env.get_num(team1) #存储每个团队智能体的数量\n",
    "N2 = env.get_num(team2)\n",
    "step_ct = 0  #用于记录环境交互的步数，初始化为 0。\n",
    "acts_1 = torch.randint(low=0,high=act_space,size=(N1,)) #初始化所有智能体的动作\n",
    "acts_2 = torch.randint(low=0,high=act_space,size=(N2,))\n",
    "\n",
    "replay1 = deque(maxlen=replay_size) #使用deque数据结果创建回放缓冲器\n",
    "replay2 = deque(maxlen=replay_size)\n",
    "\n",
    "qnext1 = torch.zeros(N1) #创建张量，以存储Q(s')值，其中s'为下一个状态\n",
    "qnext2 = torch.zeros(N2)\n",
    "\n",
    "act_means1 = init_mean_field(N1,act_space)  #初始化每个智能体的平均场\n",
    "act_means2 = init_mean_field(N2,act_space)\n",
    "\n",
    "rewards1 = torch.zeros(N1) #创建张量，以存储每个智能体的奖励\n",
    "rewards2 = torch.zeros(N2)\n",
    "\n",
    "losses1 = []\n",
    "losses2 = []"
   ]
  },
  {
   "cell_type": "markdown",
   "metadata": {},
   "source": [
    "执行动作并将经验添加到回放缓冲器中"
   ]
  },
  {
   "cell_type": "markdown",
   "metadata": {},
   "source": [
    "team_step 函数是主训练循环所在位置，使用他从环境中收集所有数据，并运行DQN 来决定采取哪些动作。add_to_replay 函数接收观察张量、动作张量、奖励张量、平均场动作张量和下一个状态的 Q 值张量，并将每个智能体经验单独添加到回放缓冲器中。"
   ]
  },
  {
   "cell_type": "code",
   "execution_count": null,
   "metadata": {},
   "outputs": [],
   "source": [
    "def team_step(team,param,acts,layers):\n",
    "    obs = env.get_observation(team) #从团队1获取观察张量，他是一个形状为 16*13*13*7 的张量\n",
    "    ids = env.get_agent_id(team) #获取仍然存活的智能体的索引列表\n",
    "    obs_small = torch.from_numpy(obs[0][:,:,:,[1,4]]) #取观察张量的子集来只获得智能体位置\n",
    "    agent_pos = env.get_pos(team) #获取一个团队中每个智能体的坐标列表\n",
    "    acts, act_means, qvals = infer_acts(obs_small,\\\n",
    "                                       param,layers,agent_pos,acts) #使用DQN 为每个智能体决定采取哪个动作\n",
    "    return acts, act_means, qvals, obs_small, ids\n",
    "\n",
    "def add_to_replay(replay,obs_small, acts,rewards,act_means,qnext): #将每个智能体的经验分别单独添加到回放缓冲器中\n",
    "    for j in range(rewards.shape[0]): #循环遍历每个智能体\n",
    "        exp = (obs_small[j], acts[j],rewards[j],act_means[j],qnext[j])\n",
    "        replay.append(exp)\n",
    "        \n",
    "    return replay"
   ]
  },
  {
   "cell_type": "code",
   "execution_count": 72,
   "metadata": {},
   "outputs": [],
   "source": [
    "for i in range(epochs):\n",
    "    done = False\n",
    "    while not done: #A\n",
    "        acts_1, act_means1, qvals1, obs_small_1, ids_1 = \\\n",
    "            team_step(team1,params[0],acts_1,layers) #B\n",
    "        env.set_action(team1, acts_1.detach().numpy().astype(np.int32)) #C\n",
    "\n",
    "        acts_2, act_means2, qvals2, obs_small_2, ids_2 = \\\n",
    "            team_step(team2,params[0],acts_2,layers)\n",
    "        env.set_action(team2, acts_2.detach().numpy().astype(np.int32))\n",
    "\n",
    "        done = env.step() #D\n",
    "\n",
    "        _, _, qnext1, _, ids_1 = team_step(team1,params[0],acts_1,layers) #E\n",
    "        _, _, qnext2, _, ids_2 = team_step(team2,params[0],acts_2,layers)\n",
    "\n",
    "        env.render() #F\n",
    "\n",
    "        rewards1 = torch.from_numpy(env.get_reward(team1)).float() #G\n",
    "        rewards2 = torch.from_numpy(env.get_reward(team2)).float()\n",
    "        #\n",
    "        #\n",
    "        #\n",
    "        replay1 = add_to_replay(replay1, obs_small_1, acts_1,rewards1,act_means1,qnext1) #A\n",
    "        replay2 = add_to_replay(replay2, obs_small_2, acts_2,rewards2,act_means2,qnext2)     \n",
    "        shuffle(replay1) #B\n",
    "        shuffle(replay2)\n",
    "        \n",
    "        ids_1_ = list(zip(np.arange(ids_1.shape[0]),ids_1)) #C\n",
    "        ids_2_ = list(zip(np.arange(ids_2.shape[0]),ids_2))\n",
    "        \n",
    "        env.clear_dead() #D\n",
    "        \n",
    "        ids_1  = env.get_agent_id(team1) #E\n",
    "        ids_2  = env.get_agent_id(team2)\n",
    "        \n",
    "        ids_1_ = [i for (i,j) in ids_1_ if j in ids_1] #F\n",
    "        ids_2_ = [i for (i,j) in ids_2_ if j in ids_2]\n",
    "        \n",
    "        acts_1 = acts_1[ids_1_] #G\n",
    "        acts_2 = acts_2[ids_2_]\n",
    "        \n",
    "        step_ct += 1\n",
    "        if step_ct > 250:\n",
    "            break\n",
    "            \n",
    "        if len(replay1) > batch_size and len(replay2) > batch_size: #H\n",
    "            loss1 = train(batch_size,replay1,params[0],layers=layers,J=N1)\n",
    "            loss2 = train(batch_size,replay2,params[1],layers=layers,J=N1)\n",
    "            losses1.append(loss1)\n",
    "            losses2.append(loss2)"
   ]
  }
 ],
 "metadata": {
  "kernelspec": {
   "display_name": "rl",
   "language": "python",
   "name": "python3"
  },
  "language_info": {
   "codemirror_mode": {
    "name": "ipython",
    "version": 3
   },
   "file_extension": ".py",
   "mimetype": "text/x-python",
   "name": "python",
   "nbconvert_exporter": "python",
   "pygments_lexer": "ipython3",
   "version": "3.8.20"
  }
 },
 "nbformat": 4,
 "nbformat_minor": 2
}
