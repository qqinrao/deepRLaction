{
 "cells": [
  {
   "cell_type": "code",
   "execution_count": 1,
   "metadata": {},
   "outputs": [
    {
     "data": {
      "text/plain": [
       "tensor([[-0.1171, -0.0949,  0.0158, -0.1308, -0.0257, -0.0938,  0.1530,  0.1321,\n",
       "         -0.1618,  0.2842],\n",
       "        [-0.0545, -0.3102,  0.1217,  0.1255, -0.0719, -0.1989, -0.0387,  0.0787,\n",
       "         -0.2609,  0.2978]], grad_fn=<AddmmBackward0>)"
      ]
     },
     "execution_count": 1,
     "metadata": {},
     "output_type": "execute_result"
    }
   ],
   "source": [
    "import torch \n",
    "from torch import nn\n",
    "from torch.nn import functional as F\n",
    "\n",
    "net = nn.Sequential(nn.Linear(20,256),nn.ReLU(),nn.Linear(256,10))\n",
    "\n",
    "x=torch.randn(2,20)\n",
    "net(x)"
   ]
  },
  {
   "cell_type": "markdown",
   "metadata": {},
   "source": [
    "自定义块"
   ]
  },
  {
   "cell_type": "code",
   "execution_count": 2,
   "metadata": {},
   "outputs": [
    {
     "data": {
      "text/plain": [
       "tensor([[ 0.2375, -0.0538,  0.3295, -0.0302,  0.0306, -0.2587, -0.0179,  0.2673,\n",
       "          0.0804, -0.0471],\n",
       "        [-0.1105, -0.0811,  0.0849,  0.2786, -0.5719,  0.2603,  0.0912, -0.1008,\n",
       "          0.0082,  0.2994]], grad_fn=<AddmmBackward0>)"
      ]
     },
     "execution_count": 2,
     "metadata": {},
     "output_type": "execute_result"
    }
   ],
   "source": [
    "class MLP(nn.Module):\n",
    "    def __init__(self):\n",
    "        super().__init__()\n",
    "        self.hidden=nn.Linear(20,256)  #隐藏层\n",
    "        self.out=nn.Linear(256,10)  #输出层\n",
    "\n",
    "    #前向传播\n",
    "    def forward(self,x):\n",
    "        return self.out(F.relu(self.hidden(x)))\n",
    "    \n",
    "net=MLP()\n",
    "net(x)"
   ]
  },
  {
   "cell_type": "markdown",
   "metadata": {},
   "source": [
    "顺序块"
   ]
  },
  {
   "cell_type": "code",
   "execution_count": 3,
   "metadata": {},
   "outputs": [
    {
     "data": {
      "text/plain": [
       "tensor([[-0.1361,  0.3502,  0.0180, -0.3931,  0.2791,  0.0783,  0.2435, -0.5411,\n",
       "          0.5887, -0.5729],\n",
       "        [-0.4164,  0.0588,  0.1979, -0.0213, -0.0866, -0.3862, -0.2877, -0.1859,\n",
       "          0.0369, -0.4005]], grad_fn=<AddmmBackward0>)"
      ]
     },
     "execution_count": 3,
     "metadata": {},
     "output_type": "execute_result"
    }
   ],
   "source": [
    "class MySequential(nn.Module):\n",
    "    def __init__(self, *args):\n",
    "        super().__init__()\n",
    "        for idx, module in enumerate(args):\n",
    "            #变量 modules 中。module 的类型是OrderedDict，\n",
    "            self._modules[str(idx)] = module\n",
    "\n",
    "    def forward(self, x):\n",
    "        #OrderedDict保证了按照成员添加的顺序遍历他们\n",
    "        for block in self._modules.values():\n",
    "            x = block(x)\n",
    "        return x\n",
    "    \n",
    "net = MySequential(nn.Linear(20, 256), nn.ReLU(), nn.Linear(256, 10))\n",
    "net(x)"
   ]
  },
  {
   "cell_type": "code",
   "execution_count": 4,
   "metadata": {},
   "outputs": [
    {
     "data": {
      "text/plain": [
       "tensor(-0.0738, grad_fn=<SumBackward0>)"
      ]
     },
     "execution_count": 4,
     "metadata": {},
     "output_type": "execute_result"
    }
   ],
   "source": [
    "class FixedHiddenMLP(nn.Module):\n",
    "    def __init__(self):\n",
    "        super().__init__()\n",
    "        self.rand_weight=torch.randn((20, 20),requires_grad=False)\n",
    "        self.liner=nn.Linear(20, 20)\n",
    "\n",
    "    def forward(self,x):\n",
    "        x=self.liner(x)\n",
    "        #使用创建的常量参数以及 relu 和 mm 函数\n",
    "        x=F.relu(torch.mm(x, self.rand_weight)+1)\n",
    "        #复用全连接层。这相当于两个全连接层共享参数\n",
    "        x=self.liner(x)\n",
    "        #控制流\n",
    "        while x.abs().sum()>1:\n",
    "            x/=2\n",
    "        return  x.sum()\n",
    "    \n",
    "net=FixedHiddenMLP()\n",
    "net(x)\n",
    "\n"
   ]
  },
  {
   "cell_type": "code",
   "execution_count": 5,
   "metadata": {},
   "outputs": [
    {
     "data": {
      "text/plain": [
       "tensor(0.0965, grad_fn=<SumBackward0>)"
      ]
     },
     "execution_count": 5,
     "metadata": {},
     "output_type": "execute_result"
    }
   ],
   "source": [
    "class NestMLP(nn.Module):\n",
    "    def __init__(self):\n",
    "        super().__init__()\n",
    "        self.net=nn.Sequential(\n",
    "            nn.Linear(20,64),\n",
    "            nn.ReLU(),\n",
    "            nn.Linear(64,32),\n",
    "            nn.ReLU()\n",
    "        )\n",
    "        self.linear=nn.Linear(32,16)\n",
    "\n",
    "    def forward(self,x):\n",
    "        return self.linear(self.net(x))\n",
    "    \n",
    "chimera=nn.Sequential(NestMLP(),nn.Linear(16,20),FixedHiddenMLP())\n",
    "chimera(x)\n"
   ]
  }
 ],
 "metadata": {
  "kernelspec": {
   "display_name": "rl",
   "language": "python",
   "name": "python3"
  },
  "language_info": {
   "codemirror_mode": {
    "name": "ipython",
    "version": 3
   },
   "file_extension": ".py",
   "mimetype": "text/x-python",
   "name": "python",
   "nbconvert_exporter": "python",
   "pygments_lexer": "ipython3",
   "version": "3.8.20"
  }
 },
 "nbformat": 4,
 "nbformat_minor": 2
}
