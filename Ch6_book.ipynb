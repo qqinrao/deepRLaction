{
 "cells": [
  {
   "cell_type": "markdown",
   "metadata": {},
   "source": [
    "##### Listing 6.1"
   ]
  },
  {
   "cell_type": "markdown",
   "metadata": {},
   "source": [
    " 概括遗传算法中字符串的进化过程，将一组随机串进化成目标串。我们从随机字符串的总体开始，将每个字符串与目标字符串进行比较，并根据每个字符串与目标字符串的相似程度为其分配匹配度分数。然后选择高匹配性的“父母”交配（或重组）来产生后代，接着对后代进行突变，引入新的遗传变异。重复上述过程，直到下一代种群被填满（与初始人口数量相同）"
   ]
  },
  {
   "cell_type": "markdown",
   "metadata": {},
   "source": [
    "以下代码创建了一个个体的初始种群，这些个体是由一个字符串和一个匹配分数字段组成的类对象。接下来，通过从一个字母的字符串列表中抽样来创建随机字符串。一旦有了一个群体，我们需要评估每个个体的匹配度。对于字符串，可以使用 Python 内置模块SequenceMatcher 来计算相似度。"
   ]
  },
  {
   "cell_type": "code",
   "execution_count": 4,
   "metadata": {},
   "outputs": [],
   "source": [
    "#进化字符串：创建随机字符串\n",
    "import random\n",
    "import numpy as np\n",
    "from matplotlib import pyplot as plt\n",
    "\n",
    "#从中抽样，以产生随机字符串的字符列表\n",
    "alphabet = \"abcdefghijklmnopqrstuvwxyzABCDEFGHIJKLMNOPQRSTUVWXYZ,.! \" #定义可用字符包括大小写字母、标点符号和空格\n",
    "target = \"Hello World!\"   #试图从一个随机种群中进化出的字符串\n",
    "\n",
    "#创建一个简单的类来存储种群中每个成员的信息\n",
    "class Individual: #表示族群的一个个体，包含一个字符串和一个适应度值\n",
    "    def __init__(self, string, fitness=0):\n",
    "        self.string = string\n",
    "        self.fitness = fitness #适应度：评估个体与目标的接近程度\n",
    "#导入SequenceMatcher用于计算字符串相似程度\n",
    "from difflib import SequenceMatcher\n",
    "\n",
    "def similar(a, b): #结算两个字符串之间的相似度比率\n",
    "    #a和b是要比较的两个字符\n",
    "    return SequenceMatcher(None, a, b).ratio()\n",
    "#spawn_population 创建初始种群\n",
    "def spawn_population(length=26,size=100):   #生成一个初始的字符串随机种群\n",
    "    pop = []\n",
    "    for i in range(size):\n",
    "        #.join 用于将列表中的元素链接成一个字符串\n",
    "        #'' 表示使用空字符串作为连接符\n",
    "        string = ''.join(random.choices(alphabet,k=length))\n",
    "        individual = Individual(string)\n",
    "        pop.append(individual)\n",
    "    return pop\n"
   ]
  },
  {
   "cell_type": "markdown",
   "metadata": {},
   "source": [
    "##### Listing 6.2"
   ]
  },
  {
   "cell_type": "markdown",
   "metadata": {},
   "source": [
    "以下代码定义了两个函数 recombine 和 mutate，前者接收两个父字符串并将他们重组来创建两个新的字符串，而后者将随机翻转字符串中的字符以让其产生变异。"
   ]
  },
  {
   "cell_type": "markdown",
   "metadata": {},
   "source": [
    "突变过程接收一个像“hellb” 这样的字符串，并以较小的概率（突变率）将字符串中的一个字符替代为随机字符。例如，突变过程可能将“hellb”变为“hello”。 突变的目的就是引入新的信息（方差）到种群。如果只进行重组，很可能种群中的所有个体太快变得过于相似，而无法找到想要的解决方案，因为如果没有突变，那么每一代的信息都会产生丢失。"
   ]
  },
  {
   "cell_type": "markdown",
   "metadata": {},
   "source": [
    "注：突变率很关键。如果突变率太高，那么匹配的个体就会因为突变而失去匹配性；太低就没有足够的方差来找到最优的个体。"
   ]
  },
  {
   "cell_type": "code",
   "execution_count": 5,
   "metadata": {},
   "outputs": [],
   "source": [
    "#重组函数\n",
    "def recombine(p1_, p2_): #接收两个父代个体，将两个父字符重组为两个新的字符串\n",
    "    p1 = p1_.string\n",
    "    p2 = p2_.string\n",
    "    child1 = []\n",
    "    child2 = []\n",
    "    cross_pt = random.randint(0,len(p1))  #随机选择一个交叉点cross_pt\n",
    "    child1.extend(p1[0:cross_pt])\n",
    "    child1.extend(p2[cross_pt:])  #p1 前部分+p2 后部分\n",
    "    child2.extend(p2[0:cross_pt])\n",
    "    child2.extend(p1[cross_pt:])  #p2 前部分+p1 后部分\n",
    "    c1 = Individual(''.join(child1))\n",
    "    c2 = Individual(''.join(child2))\n",
    "    return c1, c2\n",
    "\n",
    "\n",
    " #变异函数   \n",
    "def mutate(x, mut_rate=0.01): #接收个体x和变异率mut_rate。通过随机翻转字符来变异字符串\n",
    "    new_x_ = []\n",
    "    for char in x.string:\n",
    "        if random.random() < mut_rate:\n",
    "            #.extend用于将一个列表中的所有元素添加到另一个列表中。直接修改原始列表，而不是创建一个新的列表。\n",
    "            new_x_.extend(random.choices(alphabet,k=1))\n",
    "        else:\n",
    "            new_x_.append(char)\n",
    "    new_x = Individual(''.join(new_x_))\n",
    "    return new_x\n"
   ]
  },
  {
   "cell_type": "markdown",
   "metadata": {},
   "source": [
    "##### Listing 6.3"
   ]
  },
  {
   "cell_type": "markdown",
   "metadata": {},
   "source": [
    "以下代码定义了一个函数，用于遍历字符串种群中的每个个体，为其分配一个匹配度分数，并将他与该个体关联。还定义了一个用于创建后续世代的函数。"
   ]
  },
  {
   "cell_type": "code",
   "execution_count": 6,
   "metadata": {},
   "outputs": [],
   "source": [
    "#种群评估函数\n",
    "#给种群中的每个个体分配一个匹配度分数\n",
    "def evaluate_population(pop, target): #接收一个种群列表 pop 和目标字符串 target\n",
    "    avg_fit = 0\n",
    "    for i in range(len(pop)):\n",
    "        fit = similar(pop[i].string, target)\n",
    "        pop[i].fitness = fit  #将计算出的相似度赋值给个体的适应度属性\n",
    "        avg_fit += fit\n",
    "    avg_fit /= len(pop)\n",
    "    #返回更新了适应度的种群和平均适应度值\n",
    "    return pop, avg_fit\n",
    "\n",
    "#通过重组和突变创建新一代\n",
    "def next_generation(pop, size=100, length=26, mut_rate=0.01): \n",
    "    new_pop = []\n",
    "    while len(new_pop) < size:\n",
    "        #使用 random.choices 函数按照适应度权重随机选择两个父代个体\n",
    "        parents = random.choices(pop,k=2, weights=[x.fitness for x in pop])\n",
    "        offspring_ = recombine(parents[0],parents[1])\n",
    "        child1 = mutate(offspring_[0], mut_rate=mut_rate)\n",
    "        child2 = mutate(offspring_[1], mut_rate=mut_rate)\n",
    "        offspring = [child1, child2]  #添加变异后的子代到新种群\n",
    "        new_pop.extend(offspring)\n",
    "    return new_pop\n"
   ]
  },
  {
   "cell_type": "markdown",
   "metadata": {},
   "source": [
    "这是完成进化过程所需要的最后两个函数。其中一个函数评估种群中的每个个体，并为其分配一个匹配度分数-该分数仅表示个体字符串与目标字符串的相似程度，匹配度分数将根据给定问题目标的不同而且发生变化。最后，另一个函数通过抽样当前种群中最匹配的个体，对其进行重新组合来产生后代，并使其发生突变，从而产生一个新种群。"
   ]
  },
  {
   "cell_type": "markdown",
   "metadata": {},
   "source": [
    "以下代码将所有功能组合在一起，并重复前面的步骤，直至达到最大的世代数，也就是说，从一个初始种群开始，经历个体匹配度评分和创建新的后代种群过程，然后重复这个序列很多次。在足够多世代之后，我们期望最终的种群包含很多非常接近目标字符串的字符串。"
   ]
  },
  {
   "cell_type": "markdown",
   "metadata": {},
   "source": [
    "##### Listing 6.4"
   ]
  },
  {
   "cell_type": "code",
   "execution_count": 7,
   "metadata": {},
   "outputs": [],
   "source": [
    "num_generations = 150  #最大迭代次数\n",
    "population_size = 900  #种群大小\n",
    "str_len = len(target)  #个体字符串长度，与目标字符串长度相同\n",
    "mutation_rate = 0.00001 #变异率\n",
    "\n",
    "pop_fit = []\n",
    "pop = spawn_population(size=population_size, length=str_len) #创建初始群体\n",
    "done = False\n",
    "for gen in range(num_generations):\n",
    "    pop, avg_fit = evaluate_population(pop, target)\n",
    "    pop_fit.append(avg_fit) #记录当前平均适应度\n",
    "    new_pop = next_generation(pop, size=population_size, length=str_len, mut_rate=mutation_rate)\n",
    "    pop = new_pop\n",
    "    #检查是否有个体达标\n",
    "    for x in pop: \n",
    "        if x.string == target: \n",
    "            print(\"Target Found!\")\n",
    "            done = True\n",
    "    #如果找到目标，提前结束循环\n",
    "    if done:\n",
    "        break"
   ]
  },
  {
   "cell_type": "code",
   "execution_count": 8,
   "metadata": {},
   "outputs": [
    {
     "data": {
      "text/plain": [
       "'lHello Wrld!'"
      ]
     },
     "execution_count": 8,
     "metadata": {},
     "output_type": "execute_result"
    }
   ],
   "source": [
    "#按照适应度从高到低排列所有个体\n",
    "# sort方法默认按升序排序，reverse=True参数将排序顺序反转，变成降序\n",
    "pop.sort(key=lambda x: x.fitness, reverse=True) \n",
    "pop[0].string"
   ]
  },
  {
   "cell_type": "code",
   "execution_count": 9,
   "metadata": {},
   "outputs": [
    {
     "data": {
      "text/plain": [
       "[<matplotlib.lines.Line2D at 0x128e93390>]"
      ]
     },
     "execution_count": 9,
     "metadata": {},
     "output_type": "execute_result"
    },
    {
     "data": {
      "image/png": "[encoded data removed]",
      "text/plain": [
       "<Figure size 1200x700 with 1 Axes>"
      ]
     },
     "metadata": {},
     "output_type": "display_data"
    }
   ],
   "source": [
    "plt.figure(figsize=(12,7))\n",
    "plt.xlabel(\"Generations\",fontsize=22)\n",
    "plt.ylabel(\"Fitness\",fontsize=22)\n",
    "plt.plot(pop_fit)"
   ]
  },
  {
   "cell_type": "markdown",
   "metadata": {},
   "source": [
    "种群的平均匹配度随世代数的变化。种群的平均匹配度单调递增然后趋于平稳，看起来很有希望。如果图形非常参差不齐，那么说明突变率可能太高或者种群规模太小。如果图形收敛的太快，说明突变率可能太低"
   ]
  },
  {
   "cell_type": "markdown",
   "metadata": {},
   "source": [
    "##### Listing 6.5  CartPole的遗传算法\n",
    "CartPole Example"
   ]
  },
  {
   "cell_type": "code",
   "execution_count": 10,
   "metadata": {},
   "outputs": [],
   "source": [
    "import torch"
   ]
  },
  {
   "cell_type": "markdown",
   "metadata": {},
   "source": [
    "Total number of parameters: $4*25 + 25 + 10*25 + 10 + 2*10 + 2 = 407$"
   ]
  },
  {
   "cell_type": "markdown",
   "metadata": {},
   "source": [
    "定义一个 3 层的神经网络。其中前两层使用 relu 激活函数，最后一层使用 log_softmax 激活函数，这样得到的最终输出就是动作的对数概率。\n",
    "\n",
    "注：该函数需要一个输入状态 x 和unpacked_params，其中unpacked_params 是每层中使用的单独参数矩阵的元组\n"
   ]
  },
  {
   "cell_type": "markdown",
   "metadata": {},
   "source": [
    "## 定义一个智能体"
   ]
  },
  {
   "cell_type": "code",
   "execution_count": 11,
   "metadata": {},
   "outputs": [],
   "source": [
    "#接收两个参数：输入数据x和解包后的模型参数unpacked_params。\n",
    "def model(x,unpacked_params):\n",
    "    #将传入的参数元组解包为三层网络的权重和偏置\n",
    "    l1,b1,l2,b2,l3,b3 = unpacked_params   #将参数向量解包到单层矩阵中\n",
    "    y = torch.nn.functional.linear(x,l1,b1) #一个简单的带有偏置的线性层\n",
    "    y = torch.relu(y) #一个relu 激活函数\n",
    "    y = torch.nn.functional.linear(y,l2,b2)\n",
    "    y = torch.relu(y)\n",
    "    y = torch.nn.functional.linear(y,l3,b3)\n",
    "    #使用softmax激活函数，通常用于分类问题\n",
    "    y = torch.log_softmax(y,dim=0)   #最后一层将输出动作的对数概率\n",
    "    return y\n"
   ]
  },
  {
   "cell_type": "markdown",
   "metadata": {},
   "source": [
    "##### Listing 6.6"
   ]
  },
  {
   "cell_type": "markdown",
   "metadata": {},
   "source": [
    "### 解包参数向量"
   ]
  },
  {
   "cell_type": "markdown",
   "metadata": {},
   "source": [
    "为了使重组和突变过程变得更容易，我们将创建一对参数向量，然后将其解包或分解成单个参数矩阵，以用于神经网络的每一层。"
   ]
  },
  {
   "cell_type": "markdown",
   "metadata": {},
   "source": [
    "函数接收一个扁平的参数向量作为 params 输入，以及一个网络层规格（一个元组列表）作为 layers 输入，他将参数向量解包为一组单独的层矩阵和偏差向量，并存储在一个列表中。layers 的默认设置指定了一个 3 层神经网络，由三个分别为 25*4、10*25、2*10 的权重矩阵以及三个分别为 1*25、1*10 和 1*2 的偏差向量组成，因此扁平的参数向量中一共有25*4+25+10*25+10+2*10+2=407 个参数。 "
   ]
  },
  {
   "cell_type": "markdown",
   "metadata": {},
   "source": [
    "增加使用扁平参数向量并解包使用他们的复杂性，唯一原因是希望能够改变和重组整改参数集，这最终会变得更简单，并与我们对字符串所做的操作相匹配。另一种方法是将每一层的神经网络当作一个单独的染色体，只有匹配的染色体才会重组。利用这种方法，神经网络只会重组相同层的参数，可以防止后面网络层的信息破坏前面网络层的信息。"
   ]
  },
  {
   "cell_type": "code",
   "execution_count": 12,
   "metadata": {},
   "outputs": [],
   "source": [
    "#这个函数用于将一维参数向量解包成神经网络的权重和偏置矩阵，是进化算法优化神经网络的关键组件。\n",
    "#params：一维参数向量\n",
    "#layers：网络层结构列表，默认为三层网络，每个元组表示（输出维度，输入维度）\n",
    "def unpack_params(params, layers=[(25,4),(10,25),(2,10)]): #layers参数指定每个层矩阵的形状\n",
    "    unpacked_params = [] #创建空列表存储解包后的参数\n",
    "    e = 0  #初始化结束索引e为0\n",
    "    #i 是当前层的索引，l 是当前层的结构元组 (输出维度, 输入维度)\n",
    "    for i,l in enumerate(layers): #遍历每一层的结构\n",
    "        #np.prod(l) 用于计算元组 l 中两个元素的乘积，也就是当前层权重矩阵的元素个数。\n",
    "        s,e = e,e+np.prod(l)  #计算权重矩阵的起始索引 s 和结束索引 e\n",
    "        weights = params[s:e].view(l) #将每个层解包为矩阵形式\n",
    "        s,e = e,e+l[0]\n",
    "        bias = params[s:e]\n",
    "        unpacked_params.extend([weights,bias]) #将解包的张量添加到列表中\n",
    "    return unpacked_params\n"
   ]
  },
  {
   "cell_type": "markdown",
   "metadata": {},
   "source": [
    "##### Listing 6.7"
   ]
  },
  {
   "cell_type": "markdown",
   "metadata": {},
   "source": [
    "创建一个种群\n",
    "\n",
    "每个智能体都是一个简单的 Python 字典，其中存储着该智能体的参数向量和适应性分数。"
   ]
  },
  {
   "cell_type": "code",
   "execution_count": 13,
   "metadata": {},
   "outputs": [],
   "source": [
    "\n",
    "def spawn_population(N=50,size=407): #N 为种群中的个体数，size是参数向量的长度\n",
    "    pop = []\n",
    "    for i in range(N):\n",
    "        #torch.randn(size) 生成服从标准正态分布的随机张量，除以2.0是为了缩小初始参数的范围，有助于优化过程的稳定性\n",
    "        vec = torch.randn(size) / 2.0 #创建一个随机初始化的参数向量\n",
    "        #初始化适应度为0，并创建一个字典存储参数向量和适应度。\n",
    "        fit = 0\n",
    "        p = {'params':vec, 'fitness':fit} #创建一个字典，存储参数向量及其关联的适应性分数\n",
    "        pop.append(p) #将个体添加到种群列表中，最后返回完整的种群\n",
    "    return pop"
   ]
  },
  {
   "cell_type": "markdown",
   "metadata": {},
   "source": [
    "##### Listing 6.8"
   ]
  },
  {
   "cell_type": "markdown",
   "metadata": {},
   "source": [
    "重组两个父智能体，以产生两个新的子智能体"
   ]
  },
  {
   "cell_type": "markdown",
   "metadata": {},
   "source": [
    " 这个函数接收两个智能体作为父母，并生成两个后代。通过生成一个随机的分割或交叉点，然后取父智能体 1 的第一段并将其与父智能体 2 的第二段进行组合，同样的将父智能体 1 的第二段与父智能体 2 的第一段进行组合，以此来实现重组功能"
   ]
  },
  {
   "cell_type": "code",
   "execution_count": 14,
   "metadata": {},
   "outputs": [],
   "source": [
    "def recombine(x1,x2): #x1,x2 是两个字典，表示智能体\n",
    "    x1 = x1['params'] #只提取参数向量\n",
    "    x2 = x2['params']\n",
    "    l = x1.shape[0]\n",
    "    split_pt = np.random.randint(l) #随机产生一个分割或交叉点\n",
    "    child1 = torch.zeros(l) #创建两个全零的张量，长度与父代参数向量相同，作为子代参数向量的容器\n",
    "    child2 = torch.zeros(l)\n",
    "    child1[0:split_pt] = x1[0:split_pt] #第一个子智能体通过使用父智能体 1 第一段和父智能体 2 的第二段产生\n",
    "    child1[split_pt:] = x2[split_pt:]\n",
    "    child2[0:split_pt] = x2[0:split_pt]\n",
    "    child2[split_pt:] = x1[split_pt:]\n",
    "    c1 = {'params':child1, 'fitness': 0.0} #将新的参数向量打包进字典，以创建新的子智能体\n",
    "    c2 = {'params':child2, 'fitness': 0.0}\n",
    "    return c1, c2\n"
   ]
  },
  {
   "cell_type": "markdown",
   "metadata": {},
   "source": [
    "##### Listing 6.9"
   ]
  },
  {
   "cell_type": "markdown",
   "metadata": {},
   "source": [
    "以较低的概率使个体发生突变。突变是每一代中新的遗传信息的唯一来源--重组只是对已经存在的信息进行重新洗牌"
   ]
  },
  {
   "cell_type": "markdown",
   "metadata": {},
   "source": [
    "基本上遵循了和字符串例子中相同的流程，随机改变参数向量中的一些元素。突变率用于控制发生突变元素的数量。我们需要小心控制突变率的大小，以平衡新信息的创建和旧信息的破坏，其中新信息可用于改进现有的解决方案。"
   ]
  },
  {
   "cell_type": "code",
   "execution_count": 15,
   "metadata": {},
   "outputs": [],
   "source": [
    "def mutate(x, rate=0.01): #rate是突变率，其中0.01表示1%的突变率\n",
    "    x_ = x['params']  #从个体字典中提取参数向量\n",
    "    num_to_change = int(rate * x_.shape[0]) #根据突变率决定参数向量中有多少元素发生突变\n",
    "    idx = np.random.randint(low=0,high=x_.shape[0],size=(num_to_change,))  #随机选择变异位置\n",
    "    x_[idx] = torch.randn(num_to_change) / 10.0 #随机重置参数向量中选定的元素\n",
    "    x['params'] = x_\n",
    "    return x"
   ]
  },
  {
   "cell_type": "markdown",
   "metadata": {},
   "source": [
    "##### Listing 6.10"
   ]
  },
  {
   "cell_type": "code",
   "execution_count": 16,
   "metadata": {},
   "outputs": [],
   "source": [
    "import gymnasium as gym\n",
    "env = gym.make(\"CartPole-v1\")"
   ]
  },
  {
   "cell_type": "markdown",
   "metadata": {},
   "source": [
    "### 在环境中测试每个智能体"
   ]
  },
  {
   "cell_type": "markdown",
   "metadata": {},
   "source": [
    "test_model函数接收一个智能体（参数向量及其适应度值的一个字典），将其运行于CartPole环境中直到输掉游戏，然后将其持续的时间步数量作为分数返回。我们目的是训练在CartPole中持续的时间步数数量越来越多的智能体（因此获得高分）"
   ]
  },
  {
   "cell_type": "code",
   "execution_count": 17,
   "metadata": {},
   "outputs": [],
   "source": [
    "#函数接收一个参数agent，这是一个包含神经网络参数的字典\n",
    "def test_model(agent):\n",
    "    done = False\n",
    "    s = env.reset()[0]\n",
    "    #将初始状态从 NumPy 数组转换为 PyTorch 张量\n",
    "    state = torch.from_numpy(s).float()\n",
    "    score = 0\n",
    "    while not done: #游戏未结束期间\n",
    "        params = unpack_params(agent['params'])\n",
    "        probs = model(state,params) #使用智能体的参数向量从模型中获取动作概率\n",
    "        #创建一个基于概率分布的分类分布（Categorical），从这个分布中采样一个动作\n",
    "        #torch.distributions.Categorical 是 PyTorch 中用于创建分类分布对象的类。其构造函数接收一个参数 probs\n",
    "        #probs 是一个一维的 torch.Tensor，表示每个类别的概率。所有概率值之和应该为 1，且每个概率值都应该在 0 到 1 之间\n",
    "        action = torch.distributions.Categorical(probs=probs).sample() #通过从分类分布中抽样来概率性的选择一个动作\n",
    "        #action.item：将 action转换为 Python 标量（如 int 或 float）。\n",
    "        #env.step(action)：让智能体在环境中执行一个动作（action），并返回执行后的结果。\n",
    "        state_, reward, done, _, info = env.step(action.item())\n",
    "        state = torch.from_numpy(state_).float()\n",
    "        score += 1 #记录游戏未结束情况下持续的时间步数量，以此作为分数\n",
    "    return score\n"
   ]
  },
  {
   "cell_type": "markdown",
   "metadata": {},
   "source": [
    "##### Listing 6.11"
   ]
  },
  {
   "cell_type": "markdown",
   "metadata": {},
   "source": [
    "evaluate_population 函数用于遍历种群中的每个智能体，并使用test_model 函数，以评估他们的适应性。\n",
    "\n",
    "#### 对种群中的每个智能体进行评估操作"
   ]
  },
  {
   "cell_type": "code",
   "execution_count": null,
   "metadata": {},
   "outputs": [],
   "source": [
    "def evaluate_population(pop):\n",
    "    tot_fit = 0 #改种群的总体适应度，用于稍后计算种群的平均\n",
    "    lp = len(pop)\n",
    "    for agent in pop: #遍历种群中的每个智能体\n",
    "        score = test_model(agent) #在环境中运行智能体，以评估其适应性\n",
    "        agent['fitness'] = score #存储适应度值。将得分存储在智能体字典的 'fitness' 键中\n",
    "        tot_fit += score\n",
    "    avg_fit = tot_fit / lp  #计算平均适应度\n",
    "    return pop, avg_fit\n"
   ]
  },
  {
   "cell_type": "markdown",
   "metadata": {},
   "source": [
    "##### Listing 6.12"
   ]
  },
  {
   "cell_type": "markdown",
   "metadata": {},
   "source": [
    "采用随机选择机制。随机选择机制类似于在策略梯度法中选择动作的机制，在那里他能够很好的工作，但在遗传算法中选择父母时，往往导致收敛过快。遗传算法比基于梯度下降的算法需要更多的探索。在本例中，我们将使用一种名为联赛选择的选择机制。\n",
    "\n",
    "在联赛选择中，从整个种群中选择一个随机子集，然后在该子集中选择前两个个体作为父母，这样就确保了不会总是选择相同的前两个父母，但最终结果是确实更频繁的选择了表现更好的智能体"
   ]
  },
  {
   "cell_type": "markdown",
   "metadata": {},
   "source": [
    "我们可以改变联赛规模（随机子集的大小），控制我们倾向于在当前世代在选择最好的智能体的程度，但这样做也冒着失去遗传多样性的风险。在极端情况下，我们可以将联赛规模设置的于种群规模相等，此时将只会选择种群中的前两个个体。在另一种极端情况下，我们可以将联赛规模设置为 2，这样就会随机选择父母。"
   ]
  },
  {
   "cell_type": "markdown",
   "metadata": {},
   "source": [
    "在联赛选择中，我们像往常一样评估种群中所有个体的适应性，接着选择整个种群的一个随机子集，然后选择子集中的前几个个体，将他们交配产生后代并进行突变。重复上述过程，直到填满下一代。"
   ]
  },
  {
   "cell_type": "code",
   "execution_count": null,
   "metadata": {},
   "outputs": [],
   "source": [
    "#创建新种群\n",
    "#mut_rate：变异率，默认值为 0.001，即 0.1% 的概率对个体进行变异操作\n",
    "#pop：当前种群，是一个包含多个个体的列表，每个个体通常是一个字典，至少包含 'fitness' 键表示该个体的适应度分数。\n",
    "#tournament_size：锦标赛选择的子集大小比例，默认值为 0.2，表示从种群中随机选取 20% 的个体进行锦标赛选择。\n",
    "def next_generation(pop,mut_rate=0.001,tournament_size=0.2):\n",
    "    new_pop = []\n",
    "    lp = len(pop)\n",
    "    while len(new_pop) < len(pop): #新种群没满时\n",
    "        rids = np.random.randint(low=0,high=lp,size=(int(tournament_size*lp))) #新种群没满时\n",
    "        #选择种群的随机子集以获得一批智能体，并将每个智能体与其在原始种群中的索引值进行匹配\n",
    "        #enumerate 是Python内置的函数，它会对可迭代对象（这里是 pop 列表）进行遍历，同时返回元素的索引和元素本身。\n",
    "        #使用列表推导式遍历当前种群 pop，对于索引 i 在 rids 中的个体，将其索引 i 和适应度分数 x['fitness'] 组成一个列表 [i, x['fitness']]，最后将这些列表转换为一个二维的 numpy 数组 batch\n",
    "        batch = np.array([[i,x['fitness']] for (i,x) in enumerate(pop) if i in rids]) \n",
    "        scores = batch[batch[:, 1].argsort()] #按分数递增顺序排列这批智能体\n",
    "        #排在最后一个的就是分数最高的智能体，选择分数最高的前两个智能体作为父母\n",
    "        #scores[-1][0] 和 scores[-2][0]：分别表示排序后 scores 数组中最后一行和倒数第二行的第一列元素，即适应度最高和次高的个体在原始种群中的索引。\n",
    "        i0, i1 = int(scores[-1][0]),int(scores[-2][0]) \n",
    "        #pop[i0] 和 pop[i1]：根据索引从原始种群中取出适应度最高和次高的个体作为父母。\n",
    "        parent0,parent1 = pop[i0],pop[i1]\n",
    "        offspring_ = recombine(parent0,parent1) #重组父母以得到后代\n",
    "        child1 = mutate(offspring_[0], rate=mut_rate) #在将后代放入新种群之前先让他们突变\n",
    "        child2 = mutate(offspring_[1], rate=mut_rate)\n",
    "        offspring = [child1, child2]\n",
    "        new_pop.extend(offspring)\n",
    "    return new_pop\n"
   ]
  },
  {
   "cell_type": "markdown",
   "metadata": {},
   "source": [
    "next_generation创建了一个随机索引的列表，用于检索种群列表，并未联赛批次创建了一个子集。我们使用 enumerate 函数记录子集中的每个智能体的索引位置，这样就可以在主种群中引用他们，然后按升序对这批适应性分数进行排练，并将列表中的最后两个元素作为该批中的前两个个体，最后查找他们的索引，并从原始种群列表中选择完整的智能体。"
   ]
  },
  {
   "cell_type": "markdown",
   "metadata": {},
   "source": [
    "##### Listing 6.13"
   ]
  },
  {
   "cell_type": "markdown",
   "metadata": {},
   "source": [
    "#### 训练模型\n",
    "\n",
    "应对突变率、种群规模和世代数等超参数进行实验"
   ]
  },
  {
   "cell_type": "markdown",
   "metadata": {},
   "source": [
    "第一代从一个随机参数向量的群体开始，但由于偶然性，其中一些个体会比其他的更好，我们会优先选择这些个体进行交配来产生下一代。为了维持遗传多样性，我们允许每个个体进行轻微的变异。这个过程会不断重复，直至得到特别擅长玩CartPole游戏的个体。"
   ]
  },
  {
   "cell_type": "code",
   "execution_count": null,
   "metadata": {},
   "outputs": [],
   "source": [
    "num_generations = 20 #要进行的世代数\n",
    "population_size = 500 #每一代中个体的数量\n",
    "mutation_rate = 0.01\n",
    "pop_fit = []\n",
    "pop = spawn_population(N=population_size,size=407) #初始化一个种群\n",
    "for i in range(num_generations):\n",
    "    pop, avg_fit = evaluate_population(pop) #评估种群中每个智能体的适应度\n",
    "    pop_fit.append(avg_fit)\n",
    "    pop = next_generation(pop, mut_rate=mutation_rate,tournament_size=0.2) #构造新种群\n",
    "    "
   ]
  },
  {
   "cell_type": "code",
   "execution_count": null,
   "metadata": {},
   "outputs": [],
   "source": [
    "def running_mean(x,n=5):\n",
    "    conv = np.ones(n)\n",
    "    y = np.zeros(x.shape[0]-n)\n",
    "    for i in range(x.shape[0]-n):\n",
    "        #将当前滑动窗口内元素的总和除以窗口大小n，得到该窗口内元素的平均值，并将其赋值给结果数组y的第i个元素\n",
    "        #@ 运算符是向量点积运算\n",
    "        y[i] = (conv @ x[i:i+n]) / n\n",
    "    return y"
   ]
  },
  {
   "cell_type": "code",
   "execution_count": null,
   "metadata": {},
   "outputs": [
    {
     "data": {
      "text/plain": [
       "[<matplotlib.lines.Line2D at 0x16a9c6710>]"
      ]
     },
     "execution_count": 22,
     "metadata": {},
     "output_type": "execute_result"
    },
    {
     "data": {
      "image/png": "[encoded data removed]",
      "text/plain": [
       "<Figure size 1200x700 with 1 Axes>"
      ]
     },
     "metadata": {},
     "output_type": "display_data"
    }
   ],
   "source": [
    "plt.figure(figsize=(12,7))\n",
    "plt.xlabel(\"Generations\",fontsize=22)\n",
    "plt.ylabel(\"Score\",fontsize=22)\n",
    "plt.plot(running_mean(np.array(pop_fit),3))   #窗口大小为3"
   ]
  },
  {
   "cell_type": "code",
   "execution_count": 23,
   "metadata": {},
   "outputs": [
    {
     "data": {
      "text/plain": [
       "325"
      ]
     },
     "execution_count": 23,
     "metadata": {},
     "output_type": "execute_result"
    }
   ],
   "source": [
    "test_model(pop[0])"
   ]
  },
  {
   "cell_type": "code",
   "execution_count": null,
   "metadata": {},
   "outputs": [
    {
     "name": "stderr",
     "output_type": "stream",
     "text": [
      "/var/folders/wt/t4q1f61n40x0vm0746z9p1hh0000gn/T/ipykernel_18763/966111900.py:7: RuntimeWarning: divide by zero encountered in log\n",
      "  y = np.log(x)\n"
     ]
    },
    {
     "data": {
      "text/plain": [
       "[<matplotlib.lines.Line2D at 0x16acf96d0>]"
      ]
     },
     "execution_count": 26,
     "metadata": {},
     "output_type": "execute_result"
    },
    {
     "data": {
      "image/png": "[encoded data removed]",
      "text/plain": [
       "<Figure size 1500x700 with 1 Axes>"
      ]
     },
     "metadata": {},
     "output_type": "display_data"
    }
   ],
   "source": [
    "plt.figure(figsize=(15,7))\n",
    "#plt.axis('off') 用于隐藏图形的坐标轴，包括坐标轴的刻度、标签和边框\n",
    "plt.axis('off')\n",
    "plt.xlabel(\"Compute resources\",fontsize=22)\n",
    "plt.ylabel(\"Performance\",fontsize=22)\n",
    "x = np.linspace(0,100,1000)\n",
    "y = np.log(x)\n",
    "#plt.plot() 是 matplotlib.pyplot 模块中的函数，用于绘制曲线。\n",
    "plt.plot(x,y)"
   ]
  },
  {
   "cell_type": "markdown",
   "metadata": {},
   "source": [
    "无梯度算法的一个优势是，他们会比基于梯度的算法探索的更多。\n",
    "\n",
    "DQN和策略梯度都遵循相似的策略：收集经验并推动智能体采取导致更大奖励的动作。\n",
    "\n",
    "进化算法往往比基于梯度的算法更需要样本，因为我们没有策略性的调整智能体的权重，而只是创建了大量的智能体，并希望引入的随机突变和重组是有益的。我们认为进化算法的效率是低于DQN或PG方法。\n",
    "\n",
    "进化策略：在进化策略中，通过反复想父代个体添加少量随机噪声来产生父代的多个变体，从而创建出一个个体种群。然后，通过在环境中评估来向每个变体分配适应性分数，接着计算所有变体的加权和得到一个新的父体。\n",
    "\n"
   ]
  },
  {
   "cell_type": "markdown",
   "metadata": {},
   "source": [
    "确定智能体的适应性通常是训练循环中运行时间最长的任务，他需要在整个环境中运行智能体（可能很多次）。如果在单台计算机上执行此操作，那么将以串行方式执行，此时必须等待一个智能体在环境中运行完成之后，才能开始确定第二个智能体的适应性。运行该算法所花费的时间是智能体数量和单个智能体在整个环境中运行所花费时间的函数。"
   ]
  },
  {
   "cell_type": "markdown",
   "metadata": {},
   "source": [
    "如果有多台机器可供使用，就可以并行确定每个智能体在各自机器上的适应性。在开始评估下一个智能体之前，不必等当前智能体完成在整个环境中的运行。如果训练智能体的轮次长度很长，那么这样做能够带来巨大的速度提升。现在可以看到，该算法只是评估单个智能体适应性所需时间的函数，而不是所评估智能体数量的函数。"
   ]
  },
  {
   "cell_type": "markdown",
   "metadata": {},
   "source": [
    "分布式计算的工作原理：主节点将任务分配给工作节点，由工作节点执行这些任务，然后将结果发送回主节点。"
   ]
  },
  {
   "cell_type": "markdown",
   "metadata": {},
   "source": [
    "进化算法可以优化不可微的甚至离散的函数，而基于梯度的算法则无法做到\n",
    "\n",
    "进化策略是进化算法的一个子类，不涉及类似生物的交配和重组，而是使用带有噪声和加权的副本来从一个种群创建新的个体"
   ]
  }
 ],
 "metadata": {
  "kernelspec": {
   "display_name": "rl",
   "language": "python",
   "name": "python3"
  },
  "language_info": {
   "codemirror_mode": {
    "name": "ipython",
    "version": 3
   },
   "file_extension": ".py",
   "mimetype": "text/x-python",
   "name": "python",
   "nbconvert_exporter": "python",
   "pygments_lexer": "ipython3",
   "version": "3.13.2"
  }
 },
 "nbformat": 4,
 "nbformat_minor": 4
}
